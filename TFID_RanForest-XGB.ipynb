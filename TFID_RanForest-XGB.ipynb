{
 "cells": [
  {
   "cell_type": "code",
   "execution_count": 3,
   "metadata": {},
   "outputs": [],
   "source": [
    "# General imports\n",
    "import os\n",
    "import pandas as pd\n",
    "import numpy as np\n",
    "import matplotlib.pyplot as plt\n",
    "import seaborn as sns\n",
    "import pickle\n",
    "\n",
    "\n",
    "# Modelling Imports\n",
    "import sklearn\n",
    "import sklearn.tree\n",
    "import sklearn.metrics\n",
    "from sklearn.metrics import classification_report\n",
    "from sklearn.pipeline import Pipeline\n",
    "import sklearn.ensemble\n",
    "import sklearn.preprocessing\n",
    "import xgboost\n",
    "from sklearn.model_selection import train_test_split\n",
    "from sklearn.ensemble import RandomForestClassifier\n",
    "from sklearn.feature_extraction.text import TfidfVectorizer\n",
    "from sklearn.model_selection import StratifiedKFold\n",
    "from sklearn.model_selection import RandomizedSearchCV\n",
    "\n",
    "# Useful relative paths\n",
    "data_directory = './data/NELA'\n",
    "model_directory ='./models'"
   ]
  },
  {
   "cell_type": "markdown",
   "metadata": {
    "id": "eU-a4XhLePo4"
   },
   "source": [
    "# 1. – Modelling! "
   ]
  },
  {
   "cell_type": "markdown",
   "metadata": {
    "id": "leLl5sxs1PfF"
   },
   "source": [
    "Run this if runtime lost X and y"
   ]
  },
  {
   "cell_type": "code",
   "execution_count": 4,
   "metadata": {
    "colab": {
     "base_uri": "https://localhost:8080/",
     "height": 590
    },
    "executionInfo": {
     "elapsed": 6254,
     "status": "ok",
     "timestamp": 1606361221229,
     "user": {
      "displayName": "Axel Bogos",
      "photoUrl": "https://lh3.googleusercontent.com/-uXfsFbrsvmQ/AAAAAAAAAAI/AAAAAAAAAT4/3s5kjBD92aM/s64/photo.jpg",
      "userId": "05516112876030235506"
     },
     "user_tz": 300
    },
    "id": "B3nqFGqm1OhZ",
    "outputId": "205f14cc-2bf3-4f2f-8552-1a92d93ab90f"
   },
   "outputs": [
    {
     "data": {
      "text/plain": [
       "''"
      ]
     },
     "execution_count": 4,
     "metadata": {},
     "output_type": "execute_result"
    }
   ],
   "source": [
    "X = pd.read_csv('{}/complete_processed.csv'.format(data_directory))\n",
    "y = X['label']\n",
    "X.drop('label',axis=1)\n",
    ";"
   ]
  },
  {
   "cell_type": "markdown",
   "metadata": {
    "id": "PQdlI4D4hiBR"
   },
   "source": [
    "## 1.0 – Vectorize input with Term Frequency Identification (TFID)"
   ]
  },
  {
   "cell_type": "code",
   "execution_count": 5,
   "metadata": {
    "executionInfo": {
     "elapsed": 21014,
     "status": "ok",
     "timestamp": 1606361236012,
     "user": {
      "displayName": "Axel Bogos",
      "photoUrl": "https://lh3.googleusercontent.com/-uXfsFbrsvmQ/AAAAAAAAAAI/AAAAAAAAAT4/3s5kjBD92aM/s64/photo.jpg",
      "userId": "05516112876030235506"
     },
     "user_tz": 300
    },
    "id": "BfAXauXh1sCh"
   },
   "outputs": [],
   "source": [
    "feature_pipeline = Pipeline([\n",
    "                             ('vect', TfidfVectorizer()), \n",
    "])\n",
    "X_vectorized = feature_pipeline.fit_transform(X['full_preprocessed'])"
   ]
  },
  {
   "cell_type": "code",
   "execution_count": 6,
   "metadata": {
    "executionInfo": {
     "elapsed": 2326,
     "status": "ok",
     "timestamp": 1606337126556,
     "user": {
      "displayName": "Axel Bogos",
      "photoUrl": "https://lh3.googleusercontent.com/-uXfsFbrsvmQ/AAAAAAAAAAI/AAAAAAAAAT4/3s5kjBD92aM/s64/photo.jpg",
      "userId": "05516112876030235506"
     },
     "user_tz": 300
    },
    "id": "c58BW3dF5wFM"
   },
   "outputs": [],
   "source": [
    "X_train, X_test, y_train, y_test = sklearn.model_selection.train_test_split(X_vectorized, y, test_size=0.2, random_state=0)"
   ]
  },
  {
   "cell_type": "markdown",
   "metadata": {},
   "source": [
    "## 1.1 – Random Forest "
   ]
  },
  {
   "cell_type": "markdown",
   "metadata": {
    "id": "piLP38x4i7_N"
   },
   "source": [
    "### 1.1.2 – Random Forest Hyperparameter Search"
   ]
  },
  {
   "cell_type": "code",
   "execution_count": 31,
   "metadata": {
    "executionInfo": {
     "elapsed": 1320,
     "status": "ok",
     "timestamp": 1606166540681,
     "user": {
      "displayName": "Axel Bogos",
      "photoUrl": "https://lh3.googleusercontent.com/-uXfsFbrsvmQ/AAAAAAAAAAI/AAAAAAAAAT4/3s5kjBD92aM/s64/photo.jpg",
      "userId": "05516112876030235506"
     },
     "user_tz": 300
    },
    "id": "94PdBuVq6Jf_"
   },
   "outputs": [],
   "source": [
    "param_grid = {'n_estimators': np.arange(100,1100,100),\n",
    "               'max_features': ['auto', 'sqrt'],\n",
    "               'max_depth': np.arange(5,105,10),\n",
    "               'min_samples_split': [2, 5, 10],\n",
    "               'min_samples_leaf': [1, 2, 4]}\n",
    "random_search = RandomizedSearchCV(RandomForestClassifier(), param_distributions=param_grid, n_jobs=-1, cv=5, \n",
    "                                   verbose=3, random_state=0 )"
   ]
  },
  {
   "cell_type": "code",
   "execution_count": 32,
   "metadata": {
    "colab": {
     "base_uri": "https://localhost:8080/"
    },
    "executionInfo": {
     "elapsed": 3857419,
     "status": "ok",
     "timestamp": 1606190989829,
     "user": {
      "displayName": "Axel Bogos",
      "photoUrl": "https://lh3.googleusercontent.com/-uXfsFbrsvmQ/AAAAAAAAAAI/AAAAAAAAAT4/3s5kjBD92aM/s64/photo.jpg",
      "userId": "05516112876030235506"
     },
     "user_tz": 300
    },
    "id": "2H9BBQuY9TWl",
    "outputId": "52ab14eb-392e-4b27-fc92-563ea6578a90"
   },
   "outputs": [
    {
     "name": "stdout",
     "output_type": "stream",
     "text": [
      "Fitting 5 folds for each of 10 candidates, totalling 50 fits\n"
     ]
    },
    {
     "name": "stderr",
     "output_type": "stream",
     "text": [
      "[Parallel(n_jobs=-1)]: Using backend LokyBackend with 4 concurrent workers.\n",
      "[Parallel(n_jobs=-1)]: Done  24 tasks      | elapsed: 15.5min\n",
      "[Parallel(n_jobs=-1)]: Done  50 out of  50 | elapsed: 24.0min finished\n"
     ]
    },
    {
     "name": "stdout",
     "output_type": "stream",
     "text": [
      "New Model:\n",
      "              precision    recall  f1-score   support\n",
      "\n",
      "           0       0.79      0.85      0.82      4422\n",
      "           1       0.84      0.77      0.80      4374\n",
      "\n",
      "    accuracy                           0.81      8796\n",
      "   macro avg       0.81      0.81      0.81      8796\n",
      "weighted avg       0.81      0.81      0.81      8796\n",
      "\n",
      "{'n_estimators': 800, 'min_samples_split': 2, 'min_samples_leaf': 2, 'max_features': 'sqrt', 'max_depth': 95}\n",
      "CPU times: user 2min 6s, sys: 2.71 s, total: 2min 9s\n",
      "Wall time: 26min 15s\n"
     ]
    }
   ],
   "source": [
    "%%time\n",
    "random_search.fit(X_val,y_val)\n",
    "best_forest=random_search.best_estimator_\n",
    "y_pred = best_forest.predict(X_test)\n",
    "print('New Model:')\n",
    "print(classification_report(y_test, y_pred))\n",
    "print(random_search.best_params_)"
   ]
  },
  {
   "cell_type": "markdown",
   "metadata": {
    "id": "GpMdK4Se9n_l"
   },
   "source": [
    "#### Previous best result: Decide if we save this new model"
   ]
  },
  {
   "cell_type": "code",
   "execution_count": 34,
   "metadata": {
    "colab": {
     "base_uri": "https://localhost:8080/"
    },
    "executionInfo": {
     "elapsed": 23650,
     "status": "ok",
     "timestamp": 1606192357919,
     "user": {
      "displayName": "Axel Bogos",
      "photoUrl": "https://lh3.googleusercontent.com/-uXfsFbrsvmQ/AAAAAAAAAAI/AAAAAAAAAT4/3s5kjBD92aM/s64/photo.jpg",
      "userId": "05516112876030235506"
     },
     "user_tz": 300
    },
    "id": "0kBqdtYQ-J9J",
    "outputId": "928f89cb-362f-44c7-9b21-03a90b581a70"
   },
   "outputs": [
    {
     "name": "stdout",
     "output_type": "stream",
     "text": [
      "Previous Model:\n",
      "              precision    recall  f1-score   support\n",
      "\n",
      "           0       0.79      0.85      0.82      4422\n",
      "           1       0.84      0.77      0.80      4374\n",
      "\n",
      "    accuracy                           0.81      8796\n",
      "   macro avg       0.81      0.81      0.81      8796\n",
      "weighted avg       0.81      0.81      0.81      8796\n",
      "\n",
      "RandomForestClassifier(max_depth=95, max_features='sqrt', min_samples_leaf=2,\n",
      "                       n_estimators=800)\n"
     ]
    }
   ],
   "source": [
    "filename = '{}/sklearn/best_random_forest.pkl'.format(model_directory)\n",
    "prev_best = pickle.load(open(filename, 'rb'))\n",
    "y_pred =prev_best.predict(X_test)\n",
    "print('Previous Model:')\n",
    "print(classification_report(y_test, y_pred))\n",
    "print(prev_best)"
   ]
  },
  {
   "cell_type": "markdown",
   "metadata": {
    "id": "JmivO-wK-xRe"
   },
   "source": [
    "#### ! Danger, uncomment to save the new model best_forest"
   ]
  },
  {
   "cell_type": "code",
   "execution_count": 33,
   "metadata": {
    "executionInfo": {
     "elapsed": 4273,
     "status": "ok",
     "timestamp": 1606192325971,
     "user": {
      "displayName": "Axel Bogos",
      "photoUrl": "https://lh3.googleusercontent.com/-uXfsFbrsvmQ/AAAAAAAAAAI/AAAAAAAAAT4/3s5kjBD92aM/s64/photo.jpg",
      "userId": "05516112876030235506"
     },
     "user_tz": 300
    },
    "id": "Cn1uKB4B9mV5"
   },
   "outputs": [],
   "source": [
    "#filename = '{}/sklearn/best_random_forest.pkl'.format(model_directory)\n",
    "#pickle.dump(best_forest, open(filename, 'wb'))"
   ]
  },
  {
   "cell_type": "markdown",
   "metadata": {
    "id": "IavJiSFQpqN9"
   },
   "source": [
    "### 1.1.2 – Display Current Best Random Forest"
   ]
  },
  {
   "cell_type": "code",
   "execution_count": 48,
   "metadata": {
    "colab": {
     "base_uri": "https://localhost:8080/"
    },
    "executionInfo": {
     "elapsed": 21690,
     "status": "ok",
     "timestamp": 1606192404548,
     "user": {
      "displayName": "Axel Bogos",
      "photoUrl": "https://lh3.googleusercontent.com/-uXfsFbrsvmQ/AAAAAAAAAAI/AAAAAAAAAT4/3s5kjBD92aM/s64/photo.jpg",
      "userId": "05516112876030235506"
     },
     "user_tz": 300
    },
    "id": "4MLLqYZkq8jR",
    "outputId": "a6f7fdc4-2267-4c2c-b980-4bb72f2f1ade"
   },
   "outputs": [
    {
     "name": "stdout",
     "output_type": "stream",
     "text": [
      "              precision    recall  f1-score   support\n",
      "\n",
      "           0       0.79      0.85      0.82      4422\n",
      "           1       0.84      0.77      0.80      4374\n",
      "\n",
      "    accuracy                           0.81      8796\n",
      "   macro avg       0.81      0.81      0.81      8796\n",
      "weighted avg       0.81      0.81      0.81      8796\n",
      "\n",
      "CPU times: user 9.14 s, sys: 1.35 s, total: 10.5 s\n",
      "Wall time: 18.6 s\n"
     ]
    }
   ],
   "source": [
    "%%time\n",
    "filename = '{}/sklearn/best_random_forest.pkl'.format(model_directory)\n",
    "random_forest_classifier = pickle.load(open(filename, 'rb'))\n",
    "y_pred =random_forest_classifier.predict(X_test)\n",
    "print(classification_report(y_test, y_pred))"
   ]
  },
  {
   "cell_type": "markdown",
   "metadata": {
    "id": "S2FQrA8yNcOB"
   },
   "source": [
    "## 1.2 XGBoost Classification "
   ]
  },
  {
   "cell_type": "markdown",
   "metadata": {
    "id": "iwb9KkwNk0eE"
   },
   "source": [
    "### 1.2.1 – Hyperparameter Search"
   ]
  },
  {
   "cell_type": "code",
   "execution_count": 35,
   "metadata": {
    "executionInfo": {
     "elapsed": 696,
     "status": "ok",
     "timestamp": 1606361248747,
     "user": {
      "displayName": "Axel Bogos",
      "photoUrl": "https://lh3.googleusercontent.com/-uXfsFbrsvmQ/AAAAAAAAAAI/AAAAAAAAAT4/3s5kjBD92aM/s64/photo.jpg",
      "userId": "05516112876030235506"
     },
     "user_tz": 300
    },
    "id": "h_LyVLRPkvhO"
   },
   "outputs": [],
   "source": [
    "params = {\n",
    "        'learning_rate':[0.02,0.06,0.1], \n",
    "        'n_estimators':[600,800,1000],\n",
    "        'min_child_weight': [1, 5],\n",
    "        'gamma': [ 1, 1.5, 2, 5],\n",
    "        'subsample': [0.6, 0.8, 1.0],\n",
    "        'colsample_bytree': [0.6, 0.8, 1.0],\n",
    "        'max_depth': [4,8,12]\n",
    "        }\n",
    "random_search = RandomizedSearchCV(xgboost.XGBClassifier(), param_distributions=params, n_jobs=-1, cv=4, \n",
    "                                   verbose=3, random_state=0 )"
   ]
  },
  {
   "cell_type": "code",
   "execution_count": 38,
   "metadata": {
    "colab": {
     "base_uri": "https://localhost:8080/"
    },
    "id": "qKuHlAmkkv3Q",
    "outputId": "1e3c591c-2ffd-464f-9584-b579de3a63b6"
   },
   "outputs": [
    {
     "name": "stdout",
     "output_type": "stream",
     "text": [
      "Fitting 4 folds for each of 10 candidates, totalling 40 fits\n"
     ]
    },
    {
     "name": "stderr",
     "output_type": "stream",
     "text": [
      "[Parallel(n_jobs=-1)]: Using backend LokyBackend with 4 concurrent workers.\n",
      "[Parallel(n_jobs=-1)]: Done  24 tasks      | elapsed: 63.1min\n",
      "[Parallel(n_jobs=-1)]: Done  40 out of  40 | elapsed: 99.3min finished\n"
     ]
    },
    {
     "name": "stdout",
     "output_type": "stream",
     "text": [
      "              precision    recall  f1-score   support\n",
      "\n",
      "           0       0.83      0.84      0.83      4422\n",
      "           1       0.83      0.82      0.83      4374\n",
      "\n",
      "    accuracy                           0.83      8796\n",
      "   macro avg       0.83      0.83      0.83      8796\n",
      "weighted avg       0.83      0.83      0.83      8796\n",
      "\n",
      "{'subsample': 0.8, 'n_estimators': 1000, 'min_child_weight': 1, 'max_depth': 4, 'learning_rate': 0.1, 'gamma': 1, 'colsample_bytree': 0.8}\n",
      "CPU times: user 12min 58s, sys: 9.63 s, total: 13min 8s\n",
      "Wall time: 1h 42min 49s\n"
     ]
    }
   ],
   "source": [
    "%%time\n",
    "random_search.fit(X_val,y_val)\n",
    "best_xgb=random_search.best_estimator_\n",
    "y_pred = best_xgb.predict(X_test)\n",
    "print(classification_report(y_test, y_pred))\n",
    "print(random_search.best_params_)"
   ]
  },
  {
   "cell_type": "markdown",
   "metadata": {
    "id": "q43hGIrnlHvr"
   },
   "source": [
    "#### Previous best result: Decide if we save this new model"
   ]
  },
  {
   "cell_type": "code",
   "execution_count": null,
   "metadata": {
    "id": "gwcQP_x8kvfA"
   },
   "outputs": [],
   "source": [
    "filename = '{}/sklearn/best_xgb.pkl'.format(model_directory)\n",
    "prev_best = pickle.load(open(filename, 'rb'))\n",
    "y_pred =prev_best.predict(X_test)\n",
    "print(classification_report(y_test, y_pred))\n",
    "print(prev_best)"
   ]
  },
  {
   "cell_type": "markdown",
   "metadata": {
    "id": "TRnk8CralNwp"
   },
   "source": [
    "#### ! Danger, uncomment to save the new model best_xgb"
   ]
  },
  {
   "cell_type": "code",
   "execution_count": 39,
   "metadata": {
    "id": "GbqhIdurkvYs"
   },
   "outputs": [],
   "source": [
    "#filename = '{}/sklearn/best_xgb.pkl'.format(model_directory)\n",
    "#pickle.dump(best_xgb, open(filename, 'wb'))"
   ]
  },
  {
   "cell_type": "markdown",
   "metadata": {
    "id": "uBHLwWY-lW3_"
   },
   "source": [
    "### 1.2.2 – Display current best XGB Boost"
   ]
  },
  {
   "cell_type": "code",
   "execution_count": 43,
   "metadata": {
    "colab": {
     "base_uri": "https://localhost:8080/",
     "height": 240
    },
    "executionInfo": {
     "elapsed": 835,
     "status": "error",
     "timestamp": 1606278523077,
     "user": {
      "displayName": "Axel Bogos",
      "photoUrl": "https://lh3.googleusercontent.com/-uXfsFbrsvmQ/AAAAAAAAAAI/AAAAAAAAAT4/3s5kjBD92aM/s64/photo.jpg",
      "userId": "05516112876030235506"
     },
     "user_tz": 300
    },
    "id": "qr6Ol2e5P32i",
    "outputId": "f374de71-782e-4315-8046-628fc2c2175e"
   },
   "outputs": [
    {
     "name": "stdout",
     "output_type": "stream",
     "text": [
      "              precision    recall  f1-score   support\n",
      "\n",
      "           0       0.83      0.84      0.83      4422\n",
      "           1       0.83      0.82      0.83      4374\n",
      "\n",
      "    accuracy                           0.83      8796\n",
      "   macro avg       0.83      0.83      0.83      8796\n",
      "weighted avg       0.83      0.83      0.83      8796\n",
      "\n",
      "XGBClassifier(base_score=0.5, booster='gbtree', colsample_bylevel=1,\n",
      "              colsample_bynode=1, colsample_bytree=0.8, gamma=1, gpu_id=-1,\n",
      "              importance_type='gain', interaction_constraints='',\n",
      "              learning_rate=0.1, max_delta_step=0, max_depth=4,\n",
      "              min_child_weight=1, missing=nan, monotone_constraints='()',\n",
      "              n_estimators=1000, n_jobs=0, num_parallel_tree=1, random_state=0,\n",
      "              reg_alpha=0, reg_lambda=1, scale_pos_weight=1, subsample=0.8,\n",
      "              tree_method='exact', validate_parameters=1, verbosity=None)\n",
      "CPU times: user 1.02 s, sys: 68.2 ms, total: 1.08 s\n",
      "Wall time: 787 ms\n"
     ]
    }
   ],
   "source": [
    "%%time\n",
    "filename = '{}/sklearn/best_xgb.pkl'.format(model_directory)\n",
    "prev_best = pickle.load(open(filename, 'rb'))\n",
    "y_pred =prev_best.predict(X_test)\n",
    "print(classification_report(y_test, y_pred))\n",
    "print(prev_best)"
   ]
  },
  {
   "cell_type": "code",
   "execution_count": null,
   "metadata": {},
   "outputs": [],
   "source": []
  }
 ],
 "metadata": {
  "kernelspec": {
   "display_name": "Python 3",
   "language": "python",
   "name": "python3"
  },
  "language_info": {
   "codemirror_mode": {
    "name": "ipython",
    "version": 3
   },
   "file_extension": ".py",
   "mimetype": "text/x-python",
   "name": "python",
   "nbconvert_exporter": "python",
   "pygments_lexer": "ipython3",
   "version": "3.8.5"
  }
 },
 "nbformat": 4,
 "nbformat_minor": 4
}
