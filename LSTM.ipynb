{
 "cells": [
  {
   "cell_type": "code",
   "execution_count": 44,
   "metadata": {
    "executionInfo": {
     "elapsed": 565,
     "status": "ok",
     "timestamp": 1607109245980,
     "user": {
      "displayName": "Axel Bogos",
      "photoUrl": "https://lh3.googleusercontent.com/-uXfsFbrsvmQ/AAAAAAAAAAI/AAAAAAAAAT4/3s5kjBD92aM/s64/photo.jpg",
      "userId": "05516112876030235506"
     },
     "user_tz": 300
    },
    "id": "15zbEpfBkmRS"
   },
   "outputs": [],
   "source": [
    "# General imports\n",
    "import os\n",
    "import pandas as pd\n",
    "import numpy as np\n",
    "import matplotlib.pyplot as plt\n",
    "import seaborn as sns\n",
    "import pickle\n",
    "\n",
    "\n",
    "# Modelling Imports\n",
    "import sklearn\n",
    "import sklearn.metrics\n",
    "from sklearn.metrics import classification_report\n",
    "from sklearn.model_selection import train_test_split\n",
    "import gensim\n",
    "\n",
    "from tensorflow import keras\n",
    "from tensorflow.keras.preprocessing.text import Tokenizer\n",
    "from tensorflow.keras.preprocessing.sequence import pad_sequences\n",
    "from tensorflow.keras.models import Sequential\n",
    "from tensorflow.keras.layers import Dense, Embedding, LSTM, Bidirectional, Dropout\n",
    "\n",
    "import torch\n",
    "import torch.nn as nn\n",
    "\n",
    "# Useful relative paths\n",
    "data_directory = './data/NELA'"
   ]
  },
  {
   "cell_type": "code",
   "execution_count": 2,
   "metadata": {
    "executionInfo": {
     "elapsed": 957,
     "status": "ok",
     "timestamp": 1607107312231,
     "user": {
      "displayName": "Axel Bogos",
      "photoUrl": "https://lh3.googleusercontent.com/-uXfsFbrsvmQ/AAAAAAAAAAI/AAAAAAAAAT4/3s5kjBD92aM/s64/photo.jpg",
      "userId": "05516112876030235506"
     },
     "user_tz": 300
    },
    "id": "9u4hF25Pk1-4"
   },
   "outputs": [],
   "source": [
    "device = torch.device('cuda:0' if torch.cuda.is_available() else 'cpu')"
   ]
  },
  {
   "cell_type": "markdown",
   "metadata": {
    "id": "75adK-7ckmRS"
   },
   "source": [
    "## 1 – Modelling with LSTM! The modelling was done on Collab with a GPU. "
   ]
  },
  {
   "cell_type": "markdown",
   "metadata": {
    "id": "pxmebue3V3zR"
   },
   "source": [
    "### 1.1 - Read pre-processed data"
   ]
  },
  {
   "cell_type": "code",
   "execution_count": 4,
   "metadata": {
    "colab": {
     "base_uri": "https://localhost:8080/",
     "height": 35
    },
    "executionInfo": {
     "elapsed": 6913,
     "status": "ok",
     "timestamp": 1607107347801,
     "user": {
      "displayName": "Axel Bogos",
      "photoUrl": "https://lh3.googleusercontent.com/-uXfsFbrsvmQ/AAAAAAAAAAI/AAAAAAAAAT4/3s5kjBD92aM/s64/photo.jpg",
      "userId": "05516112876030235506"
     },
     "user_tz": 300
    },
    "id": "B3nqFGqm1OhZ",
    "outputId": "1f38aa71-f7a9-44ec-fa84-03ccab094f82"
   },
   "outputs": [
    {
     "data": {
      "application/vnd.google.colaboratory.intrinsic+json": {
       "type": "string"
      },
      "text/plain": [
       "''"
      ]
     },
     "execution_count": 4,
     "metadata": {
      "tags": []
     },
     "output_type": "execute_result"
    }
   ],
   "source": [
    "X = pd.read_csv('{}/complete_processed.csv'.format(data_directory))\n",
    "y = X['label']\n",
    "X.drop('label',axis=1)\n",
    ";"
   ]
  },
  {
   "cell_type": "markdown",
   "metadata": {
    "id": "c0B7SjYZV-zz"
   },
   "source": [
    "### 1.2 - Create the Word2Vec representation an check the size of the vocabulary"
   ]
  },
  {
   "cell_type": "code",
   "execution_count": 5,
   "metadata": {
    "executionInfo": {
     "elapsed": 136231,
     "status": "ok",
     "timestamp": 1607107479772,
     "user": {
      "displayName": "Axel Bogos",
      "photoUrl": "https://lh3.googleusercontent.com/-uXfsFbrsvmQ/AAAAAAAAAAI/AAAAAAAAAT4/3s5kjBD92aM/s64/photo.jpg",
      "userId": "05516112876030235506"
     },
     "user_tz": 300
    },
    "id": "ap-jcVl1kmRX"
   },
   "outputs": [],
   "source": [
    "full_processed_split=X['full_preprocessed'].apply(lambda x: x.split())\n",
    "w2v_model = gensim.models.Word2Vec(sentences=full_processed_split, size=100, window=5, min_count=1)"
   ]
  },
  {
   "cell_type": "code",
   "execution_count": 6,
   "metadata": {
    "colab": {
     "base_uri": "https://localhost:8080/"
    },
    "executionInfo": {
     "elapsed": 135294,
     "status": "ok",
     "timestamp": 1607107479787,
     "user": {
      "displayName": "Axel Bogos",
      "photoUrl": "https://lh3.googleusercontent.com/-uXfsFbrsvmQ/AAAAAAAAAAI/AAAAAAAAAT4/3s5kjBD92aM/s64/photo.jpg",
      "userId": "05516112876030235506"
     },
     "user_tz": 300
    },
    "id": "E-ijO1AIkmRX",
    "outputId": "bd0bb690-15b4-4bd8-bfec-0a0fd00913e7"
   },
   "outputs": [
    {
     "data": {
      "text/plain": [
       "153239"
      ]
     },
     "execution_count": 6,
     "metadata": {
      "tags": []
     },
     "output_type": "execute_result"
    }
   ],
   "source": [
    "len(w2v_model.wv.vocab)"
   ]
  },
  {
   "cell_type": "markdown",
   "metadata": {
    "id": "n2KIw-jekmRX"
   },
   "source": [
    "A little sanity check"
   ]
  },
  {
   "cell_type": "code",
   "execution_count": 7,
   "metadata": {
    "colab": {
     "base_uri": "https://localhost:8080/"
    },
    "executionInfo": {
     "elapsed": 132709,
     "status": "ok",
     "timestamp": 1607107479789,
     "user": {
      "displayName": "Axel Bogos",
      "photoUrl": "https://lh3.googleusercontent.com/-uXfsFbrsvmQ/AAAAAAAAAAI/AAAAAAAAAT4/3s5kjBD92aM/s64/photo.jpg",
      "userId": "05516112876030235506"
     },
     "user_tz": 300
    },
    "id": "0Me63399kmRX",
    "outputId": "75aa8b94-be82-4f48-ced4-fdc19d288180"
   },
   "outputs": [
    {
     "name": "stderr",
     "output_type": "stream",
     "text": [
      "/usr/local/lib/python3.6/dist-packages/gensim/matutils.py:737: FutureWarning: Conversion of the second argument of issubdtype from `int` to `np.signedinteger` is deprecated. In future, it will be treated as `np.int64 == np.dtype(int).type`.\n",
      "  if np.issubdtype(vec.dtype, np.int):\n"
     ]
    },
    {
     "data": {
      "text/plain": [
       "[('obama', 0.666392982006073),\n",
       " ('president', 0.6656293272972107),\n",
       " ('potus', 0.6603013277053833),\n",
       " ('realdonaldtrump', 0.5762010812759399),\n",
       " ('democrat', 0.5724592208862305),\n",
       " ('biden', 0.5466313362121582),\n",
       " ('republican', 0.5352396368980408),\n",
       " ('donald', 0.5282995700836182),\n",
       " ('clinton', 0.517661988735199),\n",
       " ('giuliani', 0.5163280963897705)]"
      ]
     },
     "execution_count": 7,
     "metadata": {
      "tags": []
     },
     "output_type": "execute_result"
    }
   ],
   "source": [
    "w2v_model.wv.most_similar(\"trump\")"
   ]
  },
  {
   "cell_type": "markdown",
   "metadata": {
    "id": "9lg6AlDgkmRX"
   },
   "source": [
    "Great! makes sense"
   ]
  },
  {
   "cell_type": "markdown",
   "metadata": {
    "id": "eEYyz9ZqWKAk"
   },
   "source": [
    "### 1.3 - We will use Keras tokenizer to tokenize our sequences of words. "
   ]
  },
  {
   "cell_type": "code",
   "execution_count": 9,
   "metadata": {
    "executionInfo": {
     "elapsed": 12373,
     "status": "ok",
     "timestamp": 1607107544718,
     "user": {
      "displayName": "Axel Bogos",
      "photoUrl": "https://lh3.googleusercontent.com/-uXfsFbrsvmQ/AAAAAAAAAAI/AAAAAAAAAT4/3s5kjBD92aM/s64/photo.jpg",
      "userId": "05516112876030235506"
     },
     "user_tz": 300
    },
    "id": "axEiTthWkmRX"
   },
   "outputs": [],
   "source": [
    "tokenizer = Tokenizer()\n",
    "tokenizer.fit_on_texts(full_processed_split)\n",
    "X_lstm = tokenizer.texts_to_sequences(full_processed_split)"
   ]
  },
  {
   "cell_type": "markdown",
   "metadata": {
    "id": "nmWF1KQJWTHc"
   },
   "source": [
    "### 1.4 - Remove outliers with a very high number of tokens. Might not be pertinent text. Based on the histogram, we put the threshold at 700 tokens"
   ]
  },
  {
   "cell_type": "code",
   "execution_count": 10,
   "metadata": {
    "colab": {
     "base_uri": "https://localhost:8080/",
     "height": 264
    },
    "executionInfo": {
     "elapsed": 12109,
     "status": "ok",
     "timestamp": 1607107546056,
     "user": {
      "displayName": "Axel Bogos",
      "photoUrl": "https://lh3.googleusercontent.com/-uXfsFbrsvmQ/AAAAAAAAAAI/AAAAAAAAAT4/3s5kjBD92aM/s64/photo.jpg",
      "userId": "05516112876030235506"
     },
     "user_tz": 300
    },
    "id": "DEuM2ChFkmRX",
    "outputId": "04b15156-909b-494f-9ed4-22f78a3fe9fd"
   },
   "outputs": [
    {
     "data": {
      "image/png": "[encoded data removed]",
      "text/plain": [
       "<Figure size 432x288 with 1 Axes>"
      ]
     },
     "metadata": {
      "needs_background": "light",
      "tags": []
     },
     "output_type": "display_data"
    }
   ],
   "source": [
    "plt.hist([len(x) for x in X_lstm], bins=500)\n",
    "plt.show() "
   ]
  },
  {
   "cell_type": "code",
   "execution_count": 17,
   "metadata": {
    "colab": {
     "base_uri": "https://localhost:8080/"
    },
    "executionInfo": {
     "elapsed": 865,
     "status": "ok",
     "timestamp": 1607107725477,
     "user": {
      "displayName": "Axel Bogos",
      "photoUrl": "https://lh3.googleusercontent.com/-uXfsFbrsvmQ/AAAAAAAAAAI/AAAAAAAAAT4/3s5kjBD92aM/s64/photo.jpg",
      "userId": "05516112876030235506"
     },
     "user_tz": 300
    },
    "id": "nS9sE-CRkmRX",
    "outputId": "f1cb1846-b5bc-4738-8289-a332d0e21196"
   },
   "outputs": [
    {
     "name": "stdout",
     "output_type": "stream",
     "text": [
      "Percent of entries with 500 tokens or less: 87%\n",
      "Percent of entries with 700 tokens or less: 95%\n"
     ]
    }
   ],
   "source": [
    "print('Percent of entries with 500 tokens or less: {}%'.format(round(len([x for x in X_lstm if len(x) <=500])*100/len(X_lstm))))\n",
    "print('Percent of entries with 700 tokens or less: {}%'.format(round(len([x for x in X_lstm if len(x) <=700])*100/len(X_lstm))))"
   ]
  },
  {
   "cell_type": "code",
   "execution_count": 18,
   "metadata": {
    "executionInfo": {
     "elapsed": 2215,
     "status": "ok",
     "timestamp": 1607107733612,
     "user": {
      "displayName": "Axel Bogos",
      "photoUrl": "https://lh3.googleusercontent.com/-uXfsFbrsvmQ/AAAAAAAAAAI/AAAAAAAAAT4/3s5kjBD92aM/s64/photo.jpg",
      "userId": "05516112876030235506"
     },
     "user_tz": 300
    },
    "id": "3Hk1tovykmRX"
   },
   "outputs": [],
   "source": [
    "maxlen = 700 \n",
    "X_lstm = pad_sequences(X_lstm, maxlen=maxlen)"
   ]
  },
  {
   "cell_type": "markdown",
   "metadata": {
    "id": "8jHdjGLHWqV4"
   },
   "source": [
    "### 1.5 - Create weight matrix based on the word-vectors embedded in the Word2Vec object"
   ]
  },
  {
   "cell_type": "code",
   "execution_count": 19,
   "metadata": {
    "executionInfo": {
     "elapsed": 1180,
     "status": "ok",
     "timestamp": 1607107746304,
     "user": {
      "displayName": "Axel Bogos",
      "photoUrl": "https://lh3.googleusercontent.com/-uXfsFbrsvmQ/AAAAAAAAAAI/AAAAAAAAAT4/3s5kjBD92aM/s64/photo.jpg",
      "userId": "05516112876030235506"
     },
     "user_tz": 300
    },
    "id": "IjoVfEHxkmRY"
   },
   "outputs": [],
   "source": [
    "def get_weight_matrix(model, vocab):\n",
    "    vocab_size = len(vocab) + 1\n",
    "    weight_matrix = np.zeros((vocab_size, 100))\n",
    "    for word, i in vocab.items():\n",
    "        weight_matrix[i] = model[word]\n",
    "    return weight_matrix"
   ]
  },
  {
   "cell_type": "code",
   "execution_count": 20,
   "metadata": {
    "colab": {
     "base_uri": "https://localhost:8080/"
    },
    "executionInfo": {
     "elapsed": 1449,
     "status": "ok",
     "timestamp": 1607107748746,
     "user": {
      "displayName": "Axel Bogos",
      "photoUrl": "https://lh3.googleusercontent.com/-uXfsFbrsvmQ/AAAAAAAAAAI/AAAAAAAAAT4/3s5kjBD92aM/s64/photo.jpg",
      "userId": "05516112876030235506"
     },
     "user_tz": 300
    },
    "id": "EtjOM2kNkmRY",
    "outputId": "8d8db133-c146-428d-e53b-afbfcb69ce82"
   },
   "outputs": [
    {
     "name": "stderr",
     "output_type": "stream",
     "text": [
      "/usr/local/lib/python3.6/dist-packages/ipykernel_launcher.py:5: DeprecationWarning: Call to deprecated `__getitem__` (Method will be removed in 4.0.0, use self.wv.__getitem__() instead).\n",
      "  \"\"\"\n"
     ]
    }
   ],
   "source": [
    "word_index = tokenizer.word_index\n",
    "embedding_vectors = get_weight_matrix(w2v_model, word_index)"
   ]
  },
  {
   "cell_type": "markdown",
   "metadata": {
    "id": "rRx_hZylW0lw"
   },
   "source": [
    "### 1.6 - Typical train-test-split"
   ]
  },
  {
   "cell_type": "code",
   "execution_count": 36,
   "metadata": {
    "executionInfo": {
     "elapsed": 611,
     "status": "ok",
     "timestamp": 1607108446624,
     "user": {
      "displayName": "Axel Bogos",
      "photoUrl": "https://lh3.googleusercontent.com/-uXfsFbrsvmQ/AAAAAAAAAAI/AAAAAAAAAT4/3s5kjBD92aM/s64/photo.jpg",
      "userId": "05516112876030235506"
     },
     "user_tz": 300
    },
    "id": "3Ofgue5NGCph"
   },
   "outputs": [],
   "source": [
    "X_train, X_test, y_train, y_test = train_test_split(X_lstm, y,random_state=0) "
   ]
  },
  {
   "cell_type": "markdown",
   "metadata": {
    "id": "njotxhQtW8bO"
   },
   "source": [
    "### 1.7 Create our biLSTM model"
   ]
  },
  {
   "cell_type": "code",
   "execution_count": 78,
   "metadata": {
    "executionInfo": {
     "elapsed": 938,
     "status": "ok",
     "timestamp": 1607111933419,
     "user": {
      "displayName": "Axel Bogos",
      "photoUrl": "https://lh3.googleusercontent.com/-uXfsFbrsvmQ/AAAAAAAAAAI/AAAAAAAAAT4/3s5kjBD92aM/s64/photo.jpg",
      "userId": "05516112876030235506"
     },
     "user_tz": 300
    },
    "id": "8nEwsO_4Veqo"
   },
   "outputs": [],
   "source": [
    "del(model) #clear memory"
   ]
  },
  {
   "cell_type": "code",
   "execution_count": 79,
   "metadata": {
    "executionInfo": {
     "elapsed": 2260,
     "status": "ok",
     "timestamp": 1607111937410,
     "user": {
      "displayName": "Axel Bogos",
      "photoUrl": "https://lh3.googleusercontent.com/-uXfsFbrsvmQ/AAAAAAAAAAI/AAAAAAAAAT4/3s5kjBD92aM/s64/photo.jpg",
      "userId": "05516112876030235506"
     },
     "user_tz": 300
    },
    "id": "arttWAo7IHNN"
   },
   "outputs": [],
   "source": [
    "vocab_size = len(word_index) + 1\n",
    "#Defining Neural Network\n",
    "model = Sequential()\n",
    "#Non-trainable embeddidng layer\n",
    "model.add(Embedding(input_dim=vocab_size, output_dim=100, weights=[embedding_vectors], input_length=maxlen,mask_zero=True, trainable=False))\n",
    "#LSTM \n",
    "model.add(Bidirectional(LSTM(64)))\n",
    "model.add(Dropout(0.2))\n",
    "model.add(Dense(1, activation='sigmoid'))\n",
    "\n",
    "model.compile(optimizer='adam', loss='binary_crossentropy', metrics=['acc'])"
   ]
  },
  {
   "cell_type": "markdown",
   "metadata": {
    "id": "TOjORDeSXIwv"
   },
   "source": [
    "## 2. Training! :happy:"
   ]
  },
  {
   "cell_type": "code",
   "execution_count": 80,
   "metadata": {
    "colab": {
     "base_uri": "https://localhost:8080/"
    },
    "executionInfo": {
     "elapsed": 12329114,
     "status": "ok",
     "timestamp": 1607124266973,
     "user": {
      "displayName": "Axel Bogos",
      "photoUrl": "https://lh3.googleusercontent.com/-uXfsFbrsvmQ/AAAAAAAAAAI/AAAAAAAAAT4/3s5kjBD92aM/s64/photo.jpg",
      "userId": "05516112876030235506"
     },
     "user_tz": 300
    },
    "id": "O9K3ZVQv9nvK",
    "outputId": "827525d6-623c-4ca3-cd8c-c7b6ce391006"
   },
   "outputs": [
    {
     "name": "stdout",
     "output_type": "stream",
     "text": [
      "Epoch 1/6\n",
      "722/722 [==============================] - 2142s 3s/step - loss: 0.4332 - acc: 0.7912 - val_loss: 0.3793 - val_acc: 0.8194\n",
      "Epoch 2/6\n",
      "722/722 [==============================] - 2146s 3s/step - loss: 0.3328 - acc: 0.8488 - val_loss: 0.3465 - val_acc: 0.8363\n",
      "Epoch 3/6\n",
      "722/722 [==============================] - 2126s 3s/step - loss: 0.2790 - acc: 0.8766 - val_loss: 0.3289 - val_acc: 0.8493\n",
      "Epoch 4/6\n",
      "722/722 [==============================] - 1972s 3s/step - loss: 0.2301 - acc: 0.9014 - val_loss: 0.3332 - val_acc: 0.8471\n",
      "Epoch 5/6\n",
      "722/722 [==============================] - 1963s 3s/step - loss: 0.1813 - acc: 0.9251 - val_loss: 0.3531 - val_acc: 0.8511\n",
      "Epoch 6/6\n",
      "722/722 [==============================] - 1956s 3s/step - loss: 0.1387 - acc: 0.9444 - val_loss: 0.4153 - val_acc: 0.8502\n"
     ]
    },
    {
     "data": {
      "text/plain": [
       "<tensorflow.python.keras.callbacks.History at 0x7f930ec0d668>"
      ]
     },
     "execution_count": 80,
     "metadata": {
      "tags": []
     },
     "output_type": "execute_result"
    }
   ],
   "source": [
    "model.fit(X_train, y_train, validation_split=0.3, epochs=6)"
   ]
  },
  {
   "cell_type": "markdown",
   "metadata": {
    "id": "xL0aHcwaXSw4"
   },
   "source": [
    "### 2.1 - Verifiying our result metrics"
   ]
  },
  {
   "cell_type": "code",
   "execution_count": 81,
   "metadata": {
    "colab": {
     "base_uri": "https://localhost:8080/"
    },
    "executionInfo": {
     "elapsed": 126613,
     "status": "ok",
     "timestamp": 1607126001582,
     "user": {
      "displayName": "Axel Bogos",
      "photoUrl": "https://lh3.googleusercontent.com/-uXfsFbrsvmQ/AAAAAAAAAAI/AAAAAAAAAT4/3s5kjBD92aM/s64/photo.jpg",
      "userId": "05516112876030235506"
     },
     "user_tz": 300
    },
    "id": "gYSqQ0mEHsl7",
    "outputId": "dd764c4a-e4a1-4589-a91a-24322cc919eb"
   },
   "outputs": [
    {
     "name": "stdout",
     "output_type": "stream",
     "text": [
      "              precision    recall  f1-score   support\n",
      "\n",
      "           0       0.87      0.82      0.84      5511\n",
      "           1       0.83      0.87      0.85      5484\n",
      "\n",
      "    accuracy                           0.85     10995\n",
      "   macro avg       0.85      0.85      0.85     10995\n",
      "weighted avg       0.85      0.85      0.85     10995\n",
      "\n"
     ]
    }
   ],
   "source": [
    "y_pred = (model.predict(X_test) >= 0.5).astype(\"int\")\n",
    "print(classification_report(y_test, y_pred))"
   ]
  },
  {
   "cell_type": "markdown",
   "metadata": {
    "id": "TTZRBVc7XYTC"
   },
   "source": [
    "## 3. Saving the model (if good enough)"
   ]
  },
  {
   "cell_type": "code",
   "execution_count": 83,
   "metadata": {
    "colab": {
     "base_uri": "https://localhost:8080/"
    },
    "executionInfo": {
     "elapsed": 21039,
     "status": "ok",
     "timestamp": 1607126124726,
     "user": {
      "displayName": "Axel Bogos",
      "photoUrl": "https://lh3.googleusercontent.com/-uXfsFbrsvmQ/AAAAAAAAAAI/AAAAAAAAAT4/3s5kjBD92aM/s64/photo.jpg",
      "userId": "05516112876030235506"
     },
     "user_tz": 300
    },
    "id": "bMulbANrKrhe",
    "outputId": "08fc40e3-744a-41cb-952d-35fc6912b1c2"
   },
   "outputs": [
    {
     "name": "stdout",
     "output_type": "stream",
     "text": [
      "INFO:tensorflow:Assets written to: /content/drive/MyDrive/Colab_Notebooks/COMP432/models/LSTM/assets\n"
     ]
    }
   ],
   "source": [
    "model.save('./models/LSTM/')"
   ]
  },
  {
   "cell_type": "code",
   "execution_count": null,
   "metadata": {
    "id": "3BCyAFchLNGB"
   },
   "outputs": [],
   "source": []
  }
 ],
 "metadata": {
  "accelerator": "GPU",
  "colab": {
   "collapsed_sections": [],
   "name": "LSTM.ipynb",
   "provenance": [],
   "toc_visible": true
  },
  "kernelspec": {
   "display_name": "Python 3",
   "language": "python",
   "name": "python3"
  },
  "language_info": {
   "codemirror_mode": {
    "name": "ipython",
    "version": 3
   },
   "file_extension": ".py",
   "mimetype": "text/x-python",
   "name": "python",
   "nbconvert_exporter": "python",
   "pygments_lexer": "ipython3",
   "version": "3.7.3"
  }
 },
 "nbformat": 4,
 "nbformat_minor": 4
}
