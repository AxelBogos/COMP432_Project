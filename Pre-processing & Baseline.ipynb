{
 "cells": [
  {
   "cell_type": "code",
   "execution_count": 3,
   "metadata": {
    "executionInfo": {
     "elapsed": 30825,
     "status": "ok",
     "timestamp": 1606361212621,
     "user": {
      "displayName": "Axel Bogos",
      "photoUrl": "https://lh3.googleusercontent.com/-uXfsFbrsvmQ/AAAAAAAAAAI/AAAAAAAAAT4/3s5kjBD92aM/s64/photo.jpg",
      "userId": "05516112876030235506"
     },
     "user_tz": 300
    },
    "id": "nELU_k-5gfYj"
   },
   "outputs": [],
   "source": [
    "# General imports\n",
    "import os\n",
    "import pandas as pd\n",
    "import numpy as np\n",
    "import matplotlib.pyplot as plt\n",
    "import seaborn as sns\n",
    "import pickle\n",
    "\n",
    "# Pre-processing related imports\n",
    "import nltk\n",
    "from nltk.tokenize import word_tokenize, sent_tokenize\n",
    "from nltk.corpus import stopwords\n",
    "from nltk.stem import WordNetLemmatizer \n",
    "from nltk import ngrams\n",
    "from collections import Counter\n",
    "import nltk.collocations\n",
    "import re\n",
    "import gensim\n",
    "from gensim.utils import simple_preprocess\n",
    "\n",
    "# Modelling Imports\n",
    "import sklearn\n",
    "import sklearn.metrics\n",
    "import sklearn.naive_bayes\n",
    "from sklearn.metrics import classification_report\n",
    "from sklearn.pipeline import Pipeline\n",
    "import sklearn.preprocessing\n",
    "from sklearn.model_selection import train_test_split\n",
    "from sklearn.feature_extraction.text import CountVectorizer\n",
    "\n",
    "# Useful relative paths\n",
    "data_directory = './data/NELA'\n",
    "model_directory ='./models'"
   ]
  },
  {
   "cell_type": "markdown",
   "metadata": {
    "id": "TShdWrNUh9yP"
   },
   "source": [
    "# 1. – Exploration of dataset"
   ]
  },
  {
   "cell_type": "code",
   "execution_count": 48,
   "metadata": {
    "executionInfo": {
     "elapsed": 17065,
     "status": "ok",
     "timestamp": 1606278358733,
     "user": {
      "displayName": "Axel Bogos",
      "photoUrl": "https://lh3.googleusercontent.com/-uXfsFbrsvmQ/AAAAAAAAAAI/AAAAAAAAAT4/3s5kjBD92aM/s64/photo.jpg",
      "userId": "05516112876030235506"
     },
     "user_tz": 300
    },
    "id": "b3KjT_GAhXgA"
   },
   "outputs": [],
   "source": [
    "df_true = pd.read_csv('{}/true.csv'.format(data_directory))\n",
    "df_false = pd.read_csv('{}/false.csv'.format(data_directory))"
   ]
  },
  {
   "cell_type": "code",
   "execution_count": 50,
   "metadata": {
    "executionInfo": {
     "elapsed": 9635,
     "status": "ok",
     "timestamp": 1606163679938,
     "user": {
      "displayName": "Axel Bogos",
      "photoUrl": "https://lh3.googleusercontent.com/-uXfsFbrsvmQ/AAAAAAAAAAI/AAAAAAAAAT4/3s5kjBD92aM/s64/photo.jpg",
      "userId": "05516112876030235506"
     },
     "user_tz": 300
    },
    "id": "6CQo7YPY-CVx"
   },
   "outputs": [],
   "source": [
    "X = pd.concat([df_true,df_false])\n",
    "from sklearn.utils import shuffle\n",
    "X = shuffle(X,random_state=0)"
   ]
  },
  {
   "cell_type": "markdown",
   "metadata": {
    "id": "Aq4czZ-ekLCC"
   },
   "source": [
    "## 1.1 See a few instance and column *names*"
   ]
  },
  {
   "cell_type": "code",
   "execution_count": 51,
   "metadata": {
    "colab": {
     "base_uri": "https://localhost:8080/",
     "height": 534
    },
    "executionInfo": {
     "elapsed": 6914,
     "status": "ok",
     "timestamp": 1606163679940,
     "user": {
      "displayName": "Axel Bogos",
      "photoUrl": "https://lh3.googleusercontent.com/-uXfsFbrsvmQ/AAAAAAAAAAI/AAAAAAAAAT4/3s5kjBD92aM/s64/photo.jpg",
      "userId": "05516112876030235506"
     },
     "user_tz": 300
    },
    "id": "UuA6BbxDj34R",
    "outputId": "57c39f56-730b-48cc-bc1b-67bc37e1a360"
   },
   "outputs": [
    {
     "data": {
      "text/html": [
       "<div>\n",
       "<style scoped>\n",
       "    .dataframe tbody tr th:only-of-type {\n",
       "        vertical-align: middle;\n",
       "    }\n",
       "\n",
       "    .dataframe tbody tr th {\n",
       "        vertical-align: top;\n",
       "    }\n",
       "\n",
       "    .dataframe thead th {\n",
       "        text-align: right;\n",
       "    }\n",
       "</style>\n",
       "<table border=\"1\" class=\"dataframe\">\n",
       "  <thead>\n",
       "    <tr style=\"text-align: right;\">\n",
       "      <th></th>\n",
       "      <th>Unnamed: 0</th>\n",
       "      <th>author</th>\n",
       "      <th>collection_utc</th>\n",
       "      <th>content</th>\n",
       "      <th>date</th>\n",
       "      <th>id</th>\n",
       "      <th>published</th>\n",
       "      <th>published_utc</th>\n",
       "      <th>source</th>\n",
       "      <th>title</th>\n",
       "      <th>url</th>\n",
       "      <th>label</th>\n",
       "    </tr>\n",
       "  </thead>\n",
       "  <tbody>\n",
       "    <tr>\n",
       "      <th>17847</th>\n",
       "      <td>17847</td>\n",
       "      <td>NaN</td>\n",
       "      <td>1567550262</td>\n",
       "      <td>A Dublin Castle security man who lost control ...</td>\n",
       "      <td>2019-01-30</td>\n",
       "      <td>theirishtimes--2019-01-30--Dublin Castle secur...</td>\n",
       "      <td>2019-01-30 21:16:44+00:00</td>\n",
       "      <td>1548901004</td>\n",
       "      <td>theirishtimes</td>\n",
       "      <td>Dublin Castle security man guilty of work plac...</td>\n",
       "      <td>https://www.irishtimes.com/news/crime-and-law/...</td>\n",
       "      <td>1</td>\n",
       "    </tr>\n",
       "    <tr>\n",
       "      <th>5591</th>\n",
       "      <td>5591</td>\n",
       "      <td>Chris Strohm, Shannon Pettypiece, Bloomberg</td>\n",
       "      <td>1567540886</td>\n",
       "      <td>President Donald Trump has asserted executive ...</td>\n",
       "      <td>2019-05-08</td>\n",
       "      <td>fortune--2019-05-08--Trump Asserts Executive P...</td>\n",
       "      <td>2019-05-08 14:45:04+00:00</td>\n",
       "      <td>1557341104</td>\n",
       "      <td>fortune</td>\n",
       "      <td>Trump Asserts Executive Privilege Over All Mue...</td>\n",
       "      <td>http://fortune.com/2019/05/08/trump-executive-...</td>\n",
       "      <td>1</td>\n",
       "    </tr>\n",
       "    <tr>\n",
       "      <th>11614</th>\n",
       "      <td>11614</td>\n",
       "      <td>NaN</td>\n",
       "      <td>1567549621</td>\n",
       "      <td>This is adapted from Beast special corresponde...</td>\n",
       "      <td>2019-02-04</td>\n",
       "      <td>thedailybeast--2019-02-04--Were in the Age of ...</td>\n",
       "      <td>2019-02-04 10:14:51+00:00</td>\n",
       "      <td>1549293291</td>\n",
       "      <td>thedailybeast</td>\n",
       "      <td>We’re in the Age of Fracture. Here’s How We St...</td>\n",
       "      <td>http://feedproxy.google.com/~r/thedailybeast/a...</td>\n",
       "      <td>1</td>\n",
       "    </tr>\n",
       "    <tr>\n",
       "      <th>12385</th>\n",
       "      <td>12385</td>\n",
       "      <td>admin</td>\n",
       "      <td>1567536198</td>\n",
       "      <td>Mayor Pete Buttigieg warned Saturday of the ri...</td>\n",
       "      <td>2019-07-22</td>\n",
       "      <td>prisonplanet--2019-07-22--Pete Buttigieg White...</td>\n",
       "      <td>2019-07-22 12:15:51+00:00</td>\n",
       "      <td>1563812151</td>\n",
       "      <td>prisonplanet</td>\n",
       "      <td>Pete Buttigieg: White Supremacy Threatens to E...</td>\n",
       "      <td>https://www.prisonplanet.com/pete-buttigieg-wh...</td>\n",
       "      <td>0</td>\n",
       "    </tr>\n",
       "    <tr>\n",
       "      <th>10455</th>\n",
       "      <td>10455</td>\n",
       "      <td>Josh Kovensky</td>\n",
       "      <td>1575937045</td>\n",
       "      <td>Justice Department Inspector General Michael H...</td>\n",
       "      <td>2019-12-09</td>\n",
       "      <td>talkingpointsmemo--2019-12-09--The Top Five ‘D...</td>\n",
       "      <td>Mon, 09 Dec 2019 23:01:17 +0000</td>\n",
       "      <td>1575950477</td>\n",
       "      <td>talkingpointsmemo</td>\n",
       "      <td>The Top Five ‘Deep State’ Conspiracy Theories ...</td>\n",
       "      <td>https://talkingpointsmemo.com/muckraker/the-to...</td>\n",
       "      <td>1</td>\n",
       "    </tr>\n",
       "  </tbody>\n",
       "</table>\n",
       "</div>"
      ],
      "text/plain": [
       "       Unnamed: 0                                       author  \\\n",
       "17847       17847                                          NaN   \n",
       "5591         5591  Chris Strohm, Shannon Pettypiece, Bloomberg   \n",
       "11614       11614                                          NaN   \n",
       "12385       12385                                        admin   \n",
       "10455       10455                                Josh Kovensky   \n",
       "\n",
       "       collection_utc                                            content  \\\n",
       "17847      1567550262  A Dublin Castle security man who lost control ...   \n",
       "5591       1567540886  President Donald Trump has asserted executive ...   \n",
       "11614      1567549621  This is adapted from Beast special corresponde...   \n",
       "12385      1567536198  Mayor Pete Buttigieg warned Saturday of the ri...   \n",
       "10455      1575937045  Justice Department Inspector General Michael H...   \n",
       "\n",
       "             date                                                 id  \\\n",
       "17847  2019-01-30  theirishtimes--2019-01-30--Dublin Castle secur...   \n",
       "5591   2019-05-08  fortune--2019-05-08--Trump Asserts Executive P...   \n",
       "11614  2019-02-04  thedailybeast--2019-02-04--Were in the Age of ...   \n",
       "12385  2019-07-22  prisonplanet--2019-07-22--Pete Buttigieg White...   \n",
       "10455  2019-12-09  talkingpointsmemo--2019-12-09--The Top Five ‘D...   \n",
       "\n",
       "                             published  published_utc             source  \\\n",
       "17847        2019-01-30 21:16:44+00:00     1548901004      theirishtimes   \n",
       "5591         2019-05-08 14:45:04+00:00     1557341104            fortune   \n",
       "11614        2019-02-04 10:14:51+00:00     1549293291      thedailybeast   \n",
       "12385        2019-07-22 12:15:51+00:00     1563812151       prisonplanet   \n",
       "10455  Mon, 09 Dec 2019 23:01:17 +0000     1575950477  talkingpointsmemo   \n",
       "\n",
       "                                                   title  \\\n",
       "17847  Dublin Castle security man guilty of work plac...   \n",
       "5591   Trump Asserts Executive Privilege Over All Mue...   \n",
       "11614  We’re in the Age of Fracture. Here’s How We St...   \n",
       "12385  Pete Buttigieg: White Supremacy Threatens to E...   \n",
       "10455  The Top Five ‘Deep State’ Conspiracy Theories ...   \n",
       "\n",
       "                                                     url  label  \n",
       "17847  https://www.irishtimes.com/news/crime-and-law/...      1  \n",
       "5591   http://fortune.com/2019/05/08/trump-executive-...      1  \n",
       "11614  http://feedproxy.google.com/~r/thedailybeast/a...      1  \n",
       "12385  https://www.prisonplanet.com/pete-buttigieg-wh...      0  \n",
       "10455  https://talkingpointsmemo.com/muckraker/the-to...      1  "
      ]
     },
     "execution_count": 51,
     "metadata": {},
     "output_type": "execute_result"
    }
   ],
   "source": [
    "X.head(5)"
   ]
  },
  {
   "cell_type": "code",
   "execution_count": 52,
   "metadata": {
    "colab": {
     "base_uri": "https://localhost:8080/"
    },
    "executionInfo": {
     "elapsed": 628,
     "status": "ok",
     "timestamp": 1606163682603,
     "user": {
      "displayName": "Axel Bogos",
      "photoUrl": "https://lh3.googleusercontent.com/-uXfsFbrsvmQ/AAAAAAAAAAI/AAAAAAAAAT4/3s5kjBD92aM/s64/photo.jpg",
      "userId": "05516112876030235506"
     },
     "user_tz": 300
    },
    "id": "qfjZe_6Wj86r",
    "outputId": "61d60338-26fa-43e4-ea3d-ae7f802c6adf"
   },
   "outputs": [
    {
     "data": {
      "text/plain": [
       "Index(['Unnamed: 0', 'author', 'collection_utc', 'content', 'date', 'id',\n",
       "       'published', 'published_utc', 'source', 'title', 'url', 'label'],\n",
       "      dtype='object')"
      ]
     },
     "execution_count": 52,
     "metadata": {},
     "output_type": "execute_result"
    }
   ],
   "source": [
    "X.columns"
   ]
  },
  {
   "cell_type": "code",
   "execution_count": 53,
   "metadata": {
    "executionInfo": {
     "elapsed": 697,
     "status": "ok",
     "timestamp": 1606163682990,
     "user": {
      "displayName": "Axel Bogos",
      "photoUrl": "https://lh3.googleusercontent.com/-uXfsFbrsvmQ/AAAAAAAAAAI/AAAAAAAAAT4/3s5kjBD92aM/s64/photo.jpg",
      "userId": "05516112876030235506"
     },
     "user_tz": 300
    },
    "id": "xEr6-CbW-04d"
   },
   "outputs": [],
   "source": [
    "X=X.drop(labels=['Unnamed: 0', 'author','collection_utc','id','published','published_utc','url' ],axis=1)\n",
    "df_true=df_true.drop(labels=['Unnamed: 0', 'author','collection_utc','id','published','published_utc','url' ],axis=1)\n",
    "df_false=df_false.drop(labels=['Unnamed: 0', 'author','collection_utc','id','published','published_utc','url' ],axis=1)"
   ]
  },
  {
   "cell_type": "markdown",
   "metadata": {
    "id": "zJknfNFYkPMH"
   },
   "source": [
    "## 1.2 Distribution of labels"
   ]
  },
  {
   "cell_type": "code",
   "execution_count": 18,
   "metadata": {
    "colab": {
     "base_uri": "https://localhost:8080/",
     "height": 296
    },
    "executionInfo": {
     "elapsed": 786,
     "status": "ok",
     "timestamp": 1606163684357,
     "user": {
      "displayName": "Axel Bogos",
      "photoUrl": "https://lh3.googleusercontent.com/-uXfsFbrsvmQ/AAAAAAAAAAI/AAAAAAAAAT4/3s5kjBD92aM/s64/photo.jpg",
      "userId": "05516112876030235506"
     },
     "user_tz": 300
    },
    "id": "WHJ-TTGzkI8h",
    "outputId": "388a6677-4371-4bdb-b696-fae9cf9a45fe"
   },
   "outputs": [
    {
     "data": {
      "text/plain": [
       "<matplotlib.axes._subplots.AxesSubplot at 0x12f015c18>"
      ]
     },
     "execution_count": 18,
     "metadata": {},
     "output_type": "execute_result"
    },
    {
     "data": {
      "image/png": "[encoded data removed]",
      "text/plain": [
       "<Figure size 432x288 with 1 Axes>"
      ]
     },
     "metadata": {
      "needs_background": "light"
     },
     "output_type": "display_data"
    }
   ],
   "source": [
    "sns.countplot(x=X['label'])"
   ]
  },
  {
   "cell_type": "markdown",
   "metadata": {},
   "source": [
    "Quite balanced!"
   ]
  },
  {
   "cell_type": "markdown",
   "metadata": {
    "id": "9pOGrfcUklQz"
   },
   "source": [
    "## 1.3 Null values"
   ]
  },
  {
   "cell_type": "code",
   "execution_count": 19,
   "metadata": {
    "colab": {
     "base_uri": "https://localhost:8080/"
    },
    "executionInfo": {
     "elapsed": 639,
     "status": "ok",
     "timestamp": 1606163684940,
     "user": {
      "displayName": "Axel Bogos",
      "photoUrl": "https://lh3.googleusercontent.com/-uXfsFbrsvmQ/AAAAAAAAAAI/AAAAAAAAAT4/3s5kjBD92aM/s64/photo.jpg",
      "userId": "05516112876030235506"
     },
     "user_tz": 300
    },
    "id": "TzqEDgUskpJT",
    "outputId": "b036200e-c8bd-42dd-fca2-c39b941fe34e"
   },
   "outputs": [
    {
     "data": {
      "text/plain": [
       "content    0\n",
       "date       0\n",
       "source     0\n",
       "title      1\n",
       "label      0\n",
       "dtype: int64"
      ]
     },
     "execution_count": 19,
     "metadata": {},
     "output_type": "execute_result"
    }
   ],
   "source": [
    "X.isnull().sum()"
   ]
  },
  {
   "cell_type": "markdown",
   "metadata": {
    "id": "3MkQ0JQMk6NS"
   },
   "source": [
    "## 1.4 See example of first news it classifies as \"Fake\" "
   ]
  },
  {
   "cell_type": "code",
   "execution_count": 52,
   "metadata": {
    "colab": {
     "base_uri": "https://localhost:8080/"
    },
    "executionInfo": {
     "elapsed": 1557,
     "status": "ok",
     "timestamp": 1606163686748,
     "user": {
      "displayName": "Axel Bogos",
      "photoUrl": "https://lh3.googleusercontent.com/-uXfsFbrsvmQ/AAAAAAAAAAI/AAAAAAAAAT4/3s5kjBD92aM/s64/photo.jpg",
      "userId": "05516112876030235506"
     },
     "user_tz": 300
    },
    "id": "Pr8Gj1Ask-ht",
    "outputId": "9b795e3b-a797-4755-86c4-f0924420f1a1"
   },
   "outputs": [
    {
     "ename": "KeyError",
     "evalue": "1",
     "output_type": "error",
     "traceback": [
      "\u001b[0;31m---------------------------------------------------------------------------\u001b[0m",
      "\u001b[0;31mKeyError\u001b[0m                                  Traceback (most recent call last)",
      "\u001b[0;32m//anaconda3/lib/python3.7/site-packages/pandas/core/indexes/base.py\u001b[0m in \u001b[0;36mget_loc\u001b[0;34m(self, key, method, tolerance)\u001b[0m\n\u001b[1;32m   2894\u001b[0m             \u001b[0;32mtry\u001b[0m\u001b[0;34m:\u001b[0m\u001b[0;34m\u001b[0m\u001b[0;34m\u001b[0m\u001b[0m\n\u001b[0;32m-> 2895\u001b[0;31m                 \u001b[0;32mreturn\u001b[0m \u001b[0mself\u001b[0m\u001b[0;34m.\u001b[0m\u001b[0m_engine\u001b[0m\u001b[0;34m.\u001b[0m\u001b[0mget_loc\u001b[0m\u001b[0;34m(\u001b[0m\u001b[0mcasted_key\u001b[0m\u001b[0;34m)\u001b[0m\u001b[0;34m\u001b[0m\u001b[0;34m\u001b[0m\u001b[0m\n\u001b[0m\u001b[1;32m   2896\u001b[0m             \u001b[0;32mexcept\u001b[0m \u001b[0mKeyError\u001b[0m \u001b[0;32mas\u001b[0m \u001b[0merr\u001b[0m\u001b[0;34m:\u001b[0m\u001b[0;34m\u001b[0m\u001b[0;34m\u001b[0m\u001b[0m\n",
      "\u001b[0;32mpandas/_libs/index.pyx\u001b[0m in \u001b[0;36mpandas._libs.index.IndexEngine.get_loc\u001b[0;34m()\u001b[0m\n",
      "\u001b[0;32mpandas/_libs/index.pyx\u001b[0m in \u001b[0;36mpandas._libs.index.IndexEngine.get_loc\u001b[0;34m()\u001b[0m\n",
      "\u001b[0;32mpandas/_libs/hashtable_class_helper.pxi\u001b[0m in \u001b[0;36mpandas._libs.hashtable.Int64HashTable.get_item\u001b[0;34m()\u001b[0m\n",
      "\u001b[0;32mpandas/_libs/hashtable_class_helper.pxi\u001b[0m in \u001b[0;36mpandas._libs.hashtable.Int64HashTable.get_item\u001b[0;34m()\u001b[0m\n",
      "\u001b[0;31mKeyError\u001b[0m: 1",
      "\nThe above exception was the direct cause of the following exception:\n",
      "\u001b[0;31mKeyError\u001b[0m                                  Traceback (most recent call last)",
      "\u001b[0;32m<ipython-input-52-ff10f27a7fc3>\u001b[0m in \u001b[0;36m<module>\u001b[0;34m\u001b[0m\n\u001b[0;32m----> 1\u001b[0;31m \u001b[0mprint\u001b[0m\u001b[0;34m(\u001b[0m\u001b[0;34m'title 1: '\u001b[0m\u001b[0;34m+\u001b[0m\u001b[0mX\u001b[0m\u001b[0;34m[\u001b[0m\u001b[0mX\u001b[0m\u001b[0;34m.\u001b[0m\u001b[0mlabel\u001b[0m\u001b[0;34m==\u001b[0m\u001b[0;36m0\u001b[0m\u001b[0;34m]\u001b[0m\u001b[0;34m[\u001b[0m\u001b[0;34m'title'\u001b[0m\u001b[0;34m]\u001b[0m\u001b[0;34m[\u001b[0m\u001b[0;36m1\u001b[0m\u001b[0;34m]\u001b[0m\u001b[0;34m)\u001b[0m\u001b[0;34m\u001b[0m\u001b[0;34m\u001b[0m\u001b[0m\n\u001b[0m\u001b[1;32m      2\u001b[0m \u001b[0mprint\u001b[0m\u001b[0;34m(\u001b[0m\u001b[0;34m'content 1: '\u001b[0m\u001b[0;34m+\u001b[0m\u001b[0mX\u001b[0m\u001b[0;34m[\u001b[0m\u001b[0mX\u001b[0m\u001b[0;34m.\u001b[0m\u001b[0mlabel\u001b[0m\u001b[0;34m==\u001b[0m\u001b[0;36m0\u001b[0m\u001b[0;34m]\u001b[0m\u001b[0;34m[\u001b[0m\u001b[0;34m'content'\u001b[0m\u001b[0;34m]\u001b[0m\u001b[0;34m[\u001b[0m\u001b[0;36m1\u001b[0m\u001b[0;34m]\u001b[0m\u001b[0;34m)\u001b[0m\u001b[0;34m\u001b[0m\u001b[0;34m\u001b[0m\u001b[0m\n",
      "\u001b[0;32m//anaconda3/lib/python3.7/site-packages/pandas/core/series.py\u001b[0m in \u001b[0;36m__getitem__\u001b[0;34m(self, key)\u001b[0m\n\u001b[1;32m    880\u001b[0m \u001b[0;34m\u001b[0m\u001b[0m\n\u001b[1;32m    881\u001b[0m         \u001b[0;32melif\u001b[0m \u001b[0mkey_is_scalar\u001b[0m\u001b[0;34m:\u001b[0m\u001b[0;34m\u001b[0m\u001b[0;34m\u001b[0m\u001b[0m\n\u001b[0;32m--> 882\u001b[0;31m             \u001b[0;32mreturn\u001b[0m \u001b[0mself\u001b[0m\u001b[0;34m.\u001b[0m\u001b[0m_get_value\u001b[0m\u001b[0;34m(\u001b[0m\u001b[0mkey\u001b[0m\u001b[0;34m)\u001b[0m\u001b[0;34m\u001b[0m\u001b[0;34m\u001b[0m\u001b[0m\n\u001b[0m\u001b[1;32m    883\u001b[0m \u001b[0;34m\u001b[0m\u001b[0m\n\u001b[1;32m    884\u001b[0m         \u001b[0;32mif\u001b[0m \u001b[0mis_hashable\u001b[0m\u001b[0;34m(\u001b[0m\u001b[0mkey\u001b[0m\u001b[0;34m)\u001b[0m\u001b[0;34m:\u001b[0m\u001b[0;34m\u001b[0m\u001b[0;34m\u001b[0m\u001b[0m\n",
      "\u001b[0;32m//anaconda3/lib/python3.7/site-packages/pandas/core/series.py\u001b[0m in \u001b[0;36m_get_value\u001b[0;34m(self, label, takeable)\u001b[0m\n\u001b[1;32m    987\u001b[0m \u001b[0;34m\u001b[0m\u001b[0m\n\u001b[1;32m    988\u001b[0m         \u001b[0;31m# Similar to Index.get_value, but we do not fall back to positional\u001b[0m\u001b[0;34m\u001b[0m\u001b[0;34m\u001b[0m\u001b[0;34m\u001b[0m\u001b[0m\n\u001b[0;32m--> 989\u001b[0;31m         \u001b[0mloc\u001b[0m \u001b[0;34m=\u001b[0m \u001b[0mself\u001b[0m\u001b[0;34m.\u001b[0m\u001b[0mindex\u001b[0m\u001b[0;34m.\u001b[0m\u001b[0mget_loc\u001b[0m\u001b[0;34m(\u001b[0m\u001b[0mlabel\u001b[0m\u001b[0;34m)\u001b[0m\u001b[0;34m\u001b[0m\u001b[0;34m\u001b[0m\u001b[0m\n\u001b[0m\u001b[1;32m    990\u001b[0m         \u001b[0;32mreturn\u001b[0m \u001b[0mself\u001b[0m\u001b[0;34m.\u001b[0m\u001b[0mindex\u001b[0m\u001b[0;34m.\u001b[0m\u001b[0m_get_values_for_loc\u001b[0m\u001b[0;34m(\u001b[0m\u001b[0mself\u001b[0m\u001b[0;34m,\u001b[0m \u001b[0mloc\u001b[0m\u001b[0;34m,\u001b[0m \u001b[0mlabel\u001b[0m\u001b[0;34m)\u001b[0m\u001b[0;34m\u001b[0m\u001b[0;34m\u001b[0m\u001b[0m\n\u001b[1;32m    991\u001b[0m \u001b[0;34m\u001b[0m\u001b[0m\n",
      "\u001b[0;32m//anaconda3/lib/python3.7/site-packages/pandas/core/indexes/base.py\u001b[0m in \u001b[0;36mget_loc\u001b[0;34m(self, key, method, tolerance)\u001b[0m\n\u001b[1;32m   2895\u001b[0m                 \u001b[0;32mreturn\u001b[0m \u001b[0mself\u001b[0m\u001b[0;34m.\u001b[0m\u001b[0m_engine\u001b[0m\u001b[0;34m.\u001b[0m\u001b[0mget_loc\u001b[0m\u001b[0;34m(\u001b[0m\u001b[0mcasted_key\u001b[0m\u001b[0;34m)\u001b[0m\u001b[0;34m\u001b[0m\u001b[0;34m\u001b[0m\u001b[0m\n\u001b[1;32m   2896\u001b[0m             \u001b[0;32mexcept\u001b[0m \u001b[0mKeyError\u001b[0m \u001b[0;32mas\u001b[0m \u001b[0merr\u001b[0m\u001b[0;34m:\u001b[0m\u001b[0;34m\u001b[0m\u001b[0;34m\u001b[0m\u001b[0m\n\u001b[0;32m-> 2897\u001b[0;31m                 \u001b[0;32mraise\u001b[0m \u001b[0mKeyError\u001b[0m\u001b[0;34m(\u001b[0m\u001b[0mkey\u001b[0m\u001b[0;34m)\u001b[0m \u001b[0;32mfrom\u001b[0m \u001b[0merr\u001b[0m\u001b[0;34m\u001b[0m\u001b[0;34m\u001b[0m\u001b[0m\n\u001b[0m\u001b[1;32m   2898\u001b[0m \u001b[0;34m\u001b[0m\u001b[0m\n\u001b[1;32m   2899\u001b[0m         \u001b[0;32mif\u001b[0m \u001b[0mtolerance\u001b[0m \u001b[0;32mis\u001b[0m \u001b[0;32mnot\u001b[0m \u001b[0;32mNone\u001b[0m\u001b[0;34m:\u001b[0m\u001b[0;34m\u001b[0m\u001b[0;34m\u001b[0m\u001b[0m\n",
      "\u001b[0;31mKeyError\u001b[0m: 1"
     ]
    }
   ],
   "source": [
    "print('title 1: '+X[X.label==0]['title'][1])\n",
    "print('content 1: '+X[X.label==0]['content'][1])"
   ]
  },
  {
   "cell_type": "markdown",
   "metadata": {
    "id": "sv7s1PEJBNu-"
   },
   "source": [
    "### We make the following remarks:\n",
    "\n",
    "*   Fake articles are \"genuine\" fake news, in the sense that they are raw and not specifially pointed out as fake news (as is the case in Politifact.com datasets)\n",
    "*   Articles seem quite long and and representative of actual content. \n",
    "\n"
   ]
  },
  {
   "cell_type": "markdown",
   "metadata": {
    "id": "fR6HN0qrBAFm"
   },
   "source": [
    "## 1.5 Save this CSV as our unprocessed basis"
   ]
  },
  {
   "cell_type": "code",
   "execution_count": 54,
   "metadata": {
    "executionInfo": {
     "elapsed": 9340,
     "status": "ok",
     "timestamp": 1606163698337,
     "user": {
      "displayName": "Axel Bogos",
      "photoUrl": "https://lh3.googleusercontent.com/-uXfsFbrsvmQ/AAAAAAAAAAI/AAAAAAAAAT4/3s5kjBD92aM/s64/photo.jpg",
      "userId": "05516112876030235506"
     },
     "user_tz": 300
    },
    "id": "wGZJWUIUBIkQ"
   },
   "outputs": [],
   "source": [
    "X.to_csv('{}/complete_unprocessed.csv'.format(data_directory))"
   ]
  },
  {
   "cell_type": "markdown",
   "metadata": {
    "id": "1vhWKKQoB09z"
   },
   "source": [
    "# 2. – Data Pre-processing"
   ]
  },
  {
   "cell_type": "markdown",
   "metadata": {
    "id": "oXT-Hb1RaP8p"
   },
   "source": [
    "## 2.1 Check remaing NA values"
   ]
  },
  {
   "cell_type": "code",
   "execution_count": 55,
   "metadata": {
    "colab": {
     "base_uri": "https://localhost:8080/"
    },
    "executionInfo": {
     "elapsed": 7237,
     "status": "ok",
     "timestamp": 1606163698338,
     "user": {
      "displayName": "Axel Bogos",
      "photoUrl": "https://lh3.googleusercontent.com/-uXfsFbrsvmQ/AAAAAAAAAAI/AAAAAAAAAT4/3s5kjBD92aM/s64/photo.jpg",
      "userId": "05516112876030235506"
     },
     "user_tz": 300
    },
    "id": "pSpewr6uYj-z",
    "outputId": "1960a80b-ea84-4dcb-bb4c-a63e410c5743"
   },
   "outputs": [
    {
     "data": {
      "text/plain": [
       "content    0\n",
       "date       0\n",
       "source     0\n",
       "title      1\n",
       "label      0\n",
       "dtype: int64"
      ]
     },
     "execution_count": 55,
     "metadata": {},
     "output_type": "execute_result"
    }
   ],
   "source": [
    "X.isnull().sum()"
   ]
  },
  {
   "cell_type": "code",
   "execution_count": 56,
   "metadata": {
    "executionInfo": {
     "elapsed": 5643,
     "status": "ok",
     "timestamp": 1606163698339,
     "user": {
      "displayName": "Axel Bogos",
      "photoUrl": "https://lh3.googleusercontent.com/-uXfsFbrsvmQ/AAAAAAAAAAI/AAAAAAAAAT4/3s5kjBD92aM/s64/photo.jpg",
      "userId": "05516112876030235506"
     },
     "user_tz": 300
    },
    "id": "m6bq0rtpYpR2"
   },
   "outputs": [],
   "source": [
    "X=X.dropna()\n",
    "df_true=df_true.dropna()\n",
    "df_false=df_false.dropna()"
   ]
  },
  {
   "cell_type": "markdown",
   "metadata": {
    "id": "2DxuQ18TaVJs"
   },
   "source": [
    "## 2.2 New feature combining title and content"
   ]
  },
  {
   "cell_type": "code",
   "execution_count": 57,
   "metadata": {
    "executionInfo": {
     "elapsed": 4183,
     "status": "ok",
     "timestamp": 1606163698720,
     "user": {
      "displayName": "Axel Bogos",
      "photoUrl": "https://lh3.googleusercontent.com/-uXfsFbrsvmQ/AAAAAAAAAAI/AAAAAAAAAT4/3s5kjBD92aM/s64/photo.jpg",
      "userId": "05516112876030235506"
     },
     "user_tz": 300
    },
    "id": "XGmKPk3tCVNt"
   },
   "outputs": [],
   "source": [
    "X['full_content'] = X['title']+X['content']\n",
    "df_true['full_content'] = df_true['title']+df_true['content']\n",
    "df_false['full_content'] = df_false['title']+df_false['content']"
   ]
  },
  {
   "cell_type": "markdown",
   "metadata": {
    "id": "R4ZKD2lNaaa5"
   },
   "source": [
    "## 2.3 Define & apply preprocessing function to this new feature"
   ]
  },
  {
   "cell_type": "code",
   "execution_count": 58,
   "metadata": {
    "colab": {
     "base_uri": "https://localhost:8080/"
    },
    "executionInfo": {
     "elapsed": 4651,
     "status": "ok",
     "timestamp": 1606163700600,
     "user": {
      "displayName": "Axel Bogos",
      "photoUrl": "https://lh3.googleusercontent.com/-uXfsFbrsvmQ/AAAAAAAAAAI/AAAAAAAAAT4/3s5kjBD92aM/s64/photo.jpg",
      "userId": "05516112876030235506"
     },
     "user_tz": 300
    },
    "id": "4Nai2VVDIj2h",
    "outputId": "347f7a9e-24f9-43d2-92a4-2c2b69a3ede5"
   },
   "outputs": [
    {
     "name": "stderr",
     "output_type": "stream",
     "text": [
      "[nltk_data] Downloading package stopwords to\n",
      "[nltk_data]     /Users/axelbogos/nltk_data...\n",
      "[nltk_data]   Package stopwords is already up-to-date!\n",
      "[nltk_data] Downloading package punkt to /Users/axelbogos/nltk_data...\n",
      "[nltk_data]   Package punkt is already up-to-date!\n",
      "[nltk_data] Downloading package wordnet to\n",
      "[nltk_data]     /Users/axelbogos/nltk_data...\n",
      "[nltk_data]   Package wordnet is already up-to-date!\n"
     ]
    },
    {
     "data": {
      "text/plain": [
       "True"
      ]
     },
     "execution_count": 58,
     "metadata": {},
     "output_type": "execute_result"
    }
   ],
   "source": [
    "nltk.download(\"stopwords\")\n",
    "stop_words = stopwords.words('english')\n",
    "lemmatizer = WordNetLemmatizer()\n",
    "nltk.download(\"punkt\")\n",
    "nltk.download('wordnet')"
   ]
  },
  {
   "cell_type": "code",
   "execution_count": 59,
   "metadata": {
    "executionInfo": {
     "elapsed": 2361,
     "status": "ok",
     "timestamp": 1606163700601,
     "user": {
      "displayName": "Axel Bogos",
      "photoUrl": "https://lh3.googleusercontent.com/-uXfsFbrsvmQ/AAAAAAAAAAI/AAAAAAAAAT4/3s5kjBD92aM/s64/photo.jpg",
      "userId": "05516112876030235506"
     },
     "user_tz": 300
    },
    "id": "UmzBENZ8hXsY"
   },
   "outputs": [],
   "source": [
    "def preprocess(text):\n",
    "    text=text.lower()\n",
    "    text= re.sub('[^A-Za-z ]+','', text )\n",
    "    tokenized_text = nltk.word_tokenize(text)\n",
    "    tokenized_text = [word for word in tokenized_text if not word in stop_words and len(word)>1]\n",
    "    tokenized_text =[lemmatizer.lemmatize(word) for word in tokenized_text] \n",
    "    result = ' '.join(tokenized_text)\n",
    "    return result"
   ]
  },
  {
   "cell_type": "code",
   "execution_count": 60,
   "metadata": {
    "executionInfo": {
     "elapsed": 202839,
     "status": "ok",
     "timestamp": 1606163903968,
     "user": {
      "displayName": "Axel Bogos",
      "photoUrl": "https://lh3.googleusercontent.com/-uXfsFbrsvmQ/AAAAAAAAAAI/AAAAAAAAAT4/3s5kjBD92aM/s64/photo.jpg",
      "userId": "05516112876030235506"
     },
     "user_tz": 300
    },
    "id": "gs35xPEJY6MM"
   },
   "outputs": [],
   "source": [
    "X['full_preprocessed']=X['full_content'].apply(preprocess)\n",
    "df_true['full_preprocessed']=df_true['full_content'].apply(preprocess)\n",
    "df_false['full_preprocessed']=df_false['full_content'].apply(preprocess)"
   ]
  },
  {
   "cell_type": "markdown",
   "metadata": {},
   "source": [
    "## 2.4 Get Most Common Bigrams before and after pre-processing (long to run, careful)"
   ]
  },
  {
   "cell_type": "code",
   "execution_count": 61,
   "metadata": {},
   "outputs": [],
   "source": [
    "# True articles. Comment out if only want overall dataset bigrams\n",
    "true_content_bigrams=df_true['full_content'].apply(lambda x: x.split())\n",
    "true_processed_bigrams=df_true['full_preprocessed'].apply(lambda x: x.split())\n",
    "# False articles. Comment out if only want overall dataset bigrams\n",
    "false_content_bigrams=df_false['full_content'].apply(lambda x: x.split())\n",
    "false_processed_bigrams=df_false['full_preprocessed'].apply(lambda x: x.split())\n",
    "\n",
    "full_content_bigrams=X['full_content'].apply(lambda x: x.split())\n",
    "full_processed_bigrams=X['full_preprocessed'].apply(lambda x: x.split())"
   ]
  },
  {
   "cell_type": "markdown",
   "metadata": {},
   "source": [
    "### 2.4.1 Before Pre-processing"
   ]
  },
  {
   "cell_type": "markdown",
   "metadata": {},
   "source": [
    "#### 2.4.1.1 True Articles Before Pre-processing"
   ]
  },
  {
   "cell_type": "code",
   "execution_count": 62,
   "metadata": {},
   "outputs": [
    {
     "data": {
      "text/html": [
       "<div>\n",
       "<style scoped>\n",
       "    .dataframe tbody tr th:only-of-type {\n",
       "        vertical-align: middle;\n",
       "    }\n",
       "\n",
       "    .dataframe tbody tr th {\n",
       "        vertical-align: top;\n",
       "    }\n",
       "\n",
       "    .dataframe thead th {\n",
       "        text-align: right;\n",
       "    }\n",
       "</style>\n",
       "<table border=\"1\" class=\"dataframe\">\n",
       "  <thead>\n",
       "    <tr style=\"text-align: right;\">\n",
       "      <th></th>\n",
       "      <th>gram</th>\n",
       "      <th>count</th>\n",
       "    </tr>\n",
       "  </thead>\n",
       "  <tbody>\n",
       "    <tr>\n",
       "      <th>0</th>\n",
       "      <td>(of, the)</td>\n",
       "      <td>68437</td>\n",
       "    </tr>\n",
       "    <tr>\n",
       "      <th>1</th>\n",
       "      <td>(in, the)</td>\n",
       "      <td>56891</td>\n",
       "    </tr>\n",
       "    <tr>\n",
       "      <th>2</th>\n",
       "      <td>(to, the)</td>\n",
       "      <td>31368</td>\n",
       "    </tr>\n",
       "    <tr>\n",
       "      <th>3</th>\n",
       "      <td>(on, the)</td>\n",
       "      <td>24360</td>\n",
       "    </tr>\n",
       "    <tr>\n",
       "      <th>4</th>\n",
       "      <td>(for, the)</td>\n",
       "      <td>20416</td>\n",
       "    </tr>\n",
       "    <tr>\n",
       "      <th>5</th>\n",
       "      <td>(at, the)</td>\n",
       "      <td>17673</td>\n",
       "    </tr>\n",
       "    <tr>\n",
       "      <th>6</th>\n",
       "      <td>(to, be)</td>\n",
       "      <td>17666</td>\n",
       "    </tr>\n",
       "    <tr>\n",
       "      <th>7</th>\n",
       "      <td>(and, the)</td>\n",
       "      <td>16981</td>\n",
       "    </tr>\n",
       "    <tr>\n",
       "      <th>8</th>\n",
       "      <td>(in, a)</td>\n",
       "      <td>16529</td>\n",
       "    </tr>\n",
       "    <tr>\n",
       "      <th>9</th>\n",
       "      <td>(with, the)</td>\n",
       "      <td>14724</td>\n",
       "    </tr>\n",
       "    <tr>\n",
       "      <th>10</th>\n",
       "      <td>(that, the)</td>\n",
       "      <td>13839</td>\n",
       "    </tr>\n",
       "    <tr>\n",
       "      <th>11</th>\n",
       "      <td>(from, the)</td>\n",
       "      <td>13180</td>\n",
       "    </tr>\n",
       "    <tr>\n",
       "      <th>12</th>\n",
       "      <td>(of, a)</td>\n",
       "      <td>12430</td>\n",
       "    </tr>\n",
       "    <tr>\n",
       "      <th>13</th>\n",
       "      <td>(by, the)</td>\n",
       "      <td>11234</td>\n",
       "    </tr>\n",
       "    <tr>\n",
       "      <th>14</th>\n",
       "      <td>(as, a)</td>\n",
       "      <td>10769</td>\n",
       "    </tr>\n",
       "  </tbody>\n",
       "</table>\n",
       "</div>"
      ],
      "text/plain": [
       "           gram  count\n",
       "0     (of, the)  68437\n",
       "1     (in, the)  56891\n",
       "2     (to, the)  31368\n",
       "3     (on, the)  24360\n",
       "4    (for, the)  20416\n",
       "5     (at, the)  17673\n",
       "6      (to, be)  17666\n",
       "7    (and, the)  16981\n",
       "8       (in, a)  16529\n",
       "9   (with, the)  14724\n",
       "10  (that, the)  13839\n",
       "11  (from, the)  13180\n",
       "12      (of, a)  12430\n",
       "13    (by, the)  11234\n",
       "14      (as, a)  10769"
      ]
     },
     "execution_count": 62,
     "metadata": {},
     "output_type": "execute_result"
    }
   ],
   "source": [
    "finder = BigramCollocationFinder.from_documents(true_content_bigrams.values)\n",
    "bigram_measures = nltk.collocations.BigramAssocMeasures()\n",
    "finder.apply_freq_filter(1)\n",
    "ngram_list = [pair for row in true_content_bigrams for pair in ngrams(row, 2)]\n",
    "counts = Counter(ngram_list).most_common(15)\n",
    "pd.DataFrame.from_records(counts, columns=['gram', 'count'])"
   ]
  },
  {
   "cell_type": "markdown",
   "metadata": {},
   "source": [
    "#### 2.4.1.2 False Articles Before Pre-processing"
   ]
  },
  {
   "cell_type": "code",
   "execution_count": 63,
   "metadata": {},
   "outputs": [
    {
     "data": {
      "text/html": [
       "<div>\n",
       "<style scoped>\n",
       "    .dataframe tbody tr th:only-of-type {\n",
       "        vertical-align: middle;\n",
       "    }\n",
       "\n",
       "    .dataframe tbody tr th {\n",
       "        vertical-align: top;\n",
       "    }\n",
       "\n",
       "    .dataframe thead th {\n",
       "        text-align: right;\n",
       "    }\n",
       "</style>\n",
       "<table border=\"1\" class=\"dataframe\">\n",
       "  <thead>\n",
       "    <tr style=\"text-align: right;\">\n",
       "      <th></th>\n",
       "      <th>gram</th>\n",
       "      <th>count</th>\n",
       "    </tr>\n",
       "  </thead>\n",
       "  <tbody>\n",
       "    <tr>\n",
       "      <th>0</th>\n",
       "      <td>(of, the)</td>\n",
       "      <td>68437</td>\n",
       "    </tr>\n",
       "    <tr>\n",
       "      <th>1</th>\n",
       "      <td>(in, the)</td>\n",
       "      <td>56891</td>\n",
       "    </tr>\n",
       "    <tr>\n",
       "      <th>2</th>\n",
       "      <td>(to, the)</td>\n",
       "      <td>31368</td>\n",
       "    </tr>\n",
       "    <tr>\n",
       "      <th>3</th>\n",
       "      <td>(on, the)</td>\n",
       "      <td>24360</td>\n",
       "    </tr>\n",
       "    <tr>\n",
       "      <th>4</th>\n",
       "      <td>(for, the)</td>\n",
       "      <td>20416</td>\n",
       "    </tr>\n",
       "    <tr>\n",
       "      <th>5</th>\n",
       "      <td>(at, the)</td>\n",
       "      <td>17673</td>\n",
       "    </tr>\n",
       "    <tr>\n",
       "      <th>6</th>\n",
       "      <td>(to, be)</td>\n",
       "      <td>17666</td>\n",
       "    </tr>\n",
       "    <tr>\n",
       "      <th>7</th>\n",
       "      <td>(and, the)</td>\n",
       "      <td>16981</td>\n",
       "    </tr>\n",
       "    <tr>\n",
       "      <th>8</th>\n",
       "      <td>(in, a)</td>\n",
       "      <td>16529</td>\n",
       "    </tr>\n",
       "    <tr>\n",
       "      <th>9</th>\n",
       "      <td>(with, the)</td>\n",
       "      <td>14724</td>\n",
       "    </tr>\n",
       "    <tr>\n",
       "      <th>10</th>\n",
       "      <td>(that, the)</td>\n",
       "      <td>13839</td>\n",
       "    </tr>\n",
       "    <tr>\n",
       "      <th>11</th>\n",
       "      <td>(from, the)</td>\n",
       "      <td>13180</td>\n",
       "    </tr>\n",
       "    <tr>\n",
       "      <th>12</th>\n",
       "      <td>(of, a)</td>\n",
       "      <td>12430</td>\n",
       "    </tr>\n",
       "    <tr>\n",
       "      <th>13</th>\n",
       "      <td>(by, the)</td>\n",
       "      <td>11234</td>\n",
       "    </tr>\n",
       "    <tr>\n",
       "      <th>14</th>\n",
       "      <td>(as, a)</td>\n",
       "      <td>10769</td>\n",
       "    </tr>\n",
       "  </tbody>\n",
       "</table>\n",
       "</div>"
      ],
      "text/plain": [
       "           gram  count\n",
       "0     (of, the)  68437\n",
       "1     (in, the)  56891\n",
       "2     (to, the)  31368\n",
       "3     (on, the)  24360\n",
       "4    (for, the)  20416\n",
       "5     (at, the)  17673\n",
       "6      (to, be)  17666\n",
       "7    (and, the)  16981\n",
       "8       (in, a)  16529\n",
       "9   (with, the)  14724\n",
       "10  (that, the)  13839\n",
       "11  (from, the)  13180\n",
       "12      (of, a)  12430\n",
       "13    (by, the)  11234\n",
       "14      (as, a)  10769"
      ]
     },
     "execution_count": 63,
     "metadata": {},
     "output_type": "execute_result"
    }
   ],
   "source": [
    "finder = BigramCollocationFinder.from_documents(false_content_bigrams.values)\n",
    "bigram_measures = nltk.collocations.BigramAssocMeasures()\n",
    "finder.apply_freq_filter(1)\n",
    "ngram_list = [pair for row in true_content_bigrams for pair in ngrams(row, 2)]\n",
    "counts = Counter(ngram_list).most_common(15)\n",
    "pd.DataFrame.from_records(counts, columns=['gram', 'count'])"
   ]
  },
  {
   "cell_type": "markdown",
   "metadata": {},
   "source": [
    "#### 2.4.1.3 Full dataset Before Pre-processing"
   ]
  },
  {
   "cell_type": "code",
   "execution_count": 44,
   "metadata": {},
   "outputs": [
    {
     "data": {
      "text/html": [
       "<div>\n",
       "<style scoped>\n",
       "    .dataframe tbody tr th:only-of-type {\n",
       "        vertical-align: middle;\n",
       "    }\n",
       "\n",
       "    .dataframe tbody tr th {\n",
       "        vertical-align: top;\n",
       "    }\n",
       "\n",
       "    .dataframe thead th {\n",
       "        text-align: right;\n",
       "    }\n",
       "</style>\n",
       "<table border=\"1\" class=\"dataframe\">\n",
       "  <thead>\n",
       "    <tr style=\"text-align: right;\">\n",
       "      <th></th>\n",
       "      <th>gram</th>\n",
       "      <th>count</th>\n",
       "    </tr>\n",
       "  </thead>\n",
       "  <tbody>\n",
       "    <tr>\n",
       "      <th>0</th>\n",
       "      <td>(of, the)</td>\n",
       "      <td>143818</td>\n",
       "    </tr>\n",
       "    <tr>\n",
       "      <th>1</th>\n",
       "      <td>(in, the)</td>\n",
       "      <td>110533</td>\n",
       "    </tr>\n",
       "    <tr>\n",
       "      <th>2</th>\n",
       "      <td>(to, the)</td>\n",
       "      <td>66235</td>\n",
       "    </tr>\n",
       "    <tr>\n",
       "      <th>3</th>\n",
       "      <td>(on, the)</td>\n",
       "      <td>46505</td>\n",
       "    </tr>\n",
       "    <tr>\n",
       "      <th>4</th>\n",
       "      <td>(for, the)</td>\n",
       "      <td>38645</td>\n",
       "    </tr>\n",
       "    <tr>\n",
       "      <th>5</th>\n",
       "      <td>(and, the)</td>\n",
       "      <td>36492</td>\n",
       "    </tr>\n",
       "    <tr>\n",
       "      <th>6</th>\n",
       "      <td>(to, be)</td>\n",
       "      <td>34443</td>\n",
       "    </tr>\n",
       "    <tr>\n",
       "      <th>7</th>\n",
       "      <td>(that, the)</td>\n",
       "      <td>33354</td>\n",
       "    </tr>\n",
       "    <tr>\n",
       "      <th>8</th>\n",
       "      <td>(at, the)</td>\n",
       "      <td>32506</td>\n",
       "    </tr>\n",
       "    <tr>\n",
       "      <th>9</th>\n",
       "      <td>(in, a)</td>\n",
       "      <td>29826</td>\n",
       "    </tr>\n",
       "    <tr>\n",
       "      <th>10</th>\n",
       "      <td>(with, the)</td>\n",
       "      <td>29399</td>\n",
       "    </tr>\n",
       "    <tr>\n",
       "      <th>11</th>\n",
       "      <td>(from, the)</td>\n",
       "      <td>26546</td>\n",
       "    </tr>\n",
       "    <tr>\n",
       "      <th>12</th>\n",
       "      <td>(by, the)</td>\n",
       "      <td>25588</td>\n",
       "    </tr>\n",
       "    <tr>\n",
       "      <th>13</th>\n",
       "      <td>(of, a)</td>\n",
       "      <td>23563</td>\n",
       "    </tr>\n",
       "    <tr>\n",
       "      <th>14</th>\n",
       "      <td>(is, a)</td>\n",
       "      <td>22499</td>\n",
       "    </tr>\n",
       "  </tbody>\n",
       "</table>\n",
       "</div>"
      ],
      "text/plain": [
       "           gram   count\n",
       "0     (of, the)  143818\n",
       "1     (in, the)  110533\n",
       "2     (to, the)   66235\n",
       "3     (on, the)   46505\n",
       "4    (for, the)   38645\n",
       "5    (and, the)   36492\n",
       "6      (to, be)   34443\n",
       "7   (that, the)   33354\n",
       "8     (at, the)   32506\n",
       "9       (in, a)   29826\n",
       "10  (with, the)   29399\n",
       "11  (from, the)   26546\n",
       "12    (by, the)   25588\n",
       "13      (of, a)   23563\n",
       "14      (is, a)   22499"
      ]
     },
     "execution_count": 44,
     "metadata": {},
     "output_type": "execute_result"
    }
   ],
   "source": [
    "finder = BigramCollocationFinder.from_documents(full_content_bigrams.values)\n",
    "bigram_measures = nltk.collocations.BigramAssocMeasures()\n",
    "finder.apply_freq_filter(1)\n",
    "ngram_list = [pair for row in full_content_bigrams for pair in ngrams(row, 2)]\n",
    "counts = Counter(ngram_list).most_common(15)\n",
    "pd.DataFrame.from_records(counts, columns=['gram', 'count'])"
   ]
  },
  {
   "cell_type": "markdown",
   "metadata": {},
   "source": [
    "### 2.4.2 After Pre-processing"
   ]
  },
  {
   "cell_type": "markdown",
   "metadata": {},
   "source": [
    "#### 2.4.2.1 True Articles After Pre-processing"
   ]
  },
  {
   "cell_type": "code",
   "execution_count": 64,
   "metadata": {},
   "outputs": [
    {
     "data": {
      "text/html": [
       "<div>\n",
       "<style scoped>\n",
       "    .dataframe tbody tr th:only-of-type {\n",
       "        vertical-align: middle;\n",
       "    }\n",
       "\n",
       "    .dataframe tbody tr th {\n",
       "        vertical-align: top;\n",
       "    }\n",
       "\n",
       "    .dataframe thead th {\n",
       "        text-align: right;\n",
       "    }\n",
       "</style>\n",
       "<table border=\"1\" class=\"dataframe\">\n",
       "  <thead>\n",
       "    <tr style=\"text-align: right;\">\n",
       "      <th></th>\n",
       "      <th>gram</th>\n",
       "      <th>count</th>\n",
       "    </tr>\n",
       "  </thead>\n",
       "  <tbody>\n",
       "    <tr>\n",
       "      <th>0</th>\n",
       "      <td>(donald, trump)</td>\n",
       "      <td>3860</td>\n",
       "    </tr>\n",
       "    <tr>\n",
       "      <th>1</th>\n",
       "      <td>(white, house)</td>\n",
       "      <td>3806</td>\n",
       "    </tr>\n",
       "    <tr>\n",
       "      <th>2</th>\n",
       "      <td>(united, state)</td>\n",
       "      <td>3610</td>\n",
       "    </tr>\n",
       "    <tr>\n",
       "      <th>3</th>\n",
       "      <td>(new, york)</td>\n",
       "      <td>3354</td>\n",
       "    </tr>\n",
       "    <tr>\n",
       "      <th>4</th>\n",
       "      <td>(last, year)</td>\n",
       "      <td>3236</td>\n",
       "    </tr>\n",
       "    <tr>\n",
       "      <th>5</th>\n",
       "      <td>(prime, minister)</td>\n",
       "      <td>2968</td>\n",
       "    </tr>\n",
       "    <tr>\n",
       "      <th>6</th>\n",
       "      <td>(president, donald)</td>\n",
       "      <td>2177</td>\n",
       "    </tr>\n",
       "    <tr>\n",
       "      <th>7</th>\n",
       "      <td>(per, cent)</td>\n",
       "      <td>2030</td>\n",
       "    </tr>\n",
       "    <tr>\n",
       "      <th>8</th>\n",
       "      <td>(last, week)</td>\n",
       "      <td>1882</td>\n",
       "    </tr>\n",
       "    <tr>\n",
       "      <th>9</th>\n",
       "      <td>(president, trump)</td>\n",
       "      <td>1677</td>\n",
       "    </tr>\n",
       "    <tr>\n",
       "      <th>10</th>\n",
       "      <td>(trump, administration)</td>\n",
       "      <td>1657</td>\n",
       "    </tr>\n",
       "    <tr>\n",
       "      <th>11</th>\n",
       "      <td>(mr, trump)</td>\n",
       "      <td>1642</td>\n",
       "    </tr>\n",
       "    <tr>\n",
       "      <th>12</th>\n",
       "      <td>(social, medium)</td>\n",
       "      <td>1632</td>\n",
       "    </tr>\n",
       "    <tr>\n",
       "      <th>13</th>\n",
       "      <td>(first, time)</td>\n",
       "      <td>1596</td>\n",
       "    </tr>\n",
       "    <tr>\n",
       "      <th>14</th>\n",
       "      <td>(year, ago)</td>\n",
       "      <td>1519</td>\n",
       "    </tr>\n",
       "  </tbody>\n",
       "</table>\n",
       "</div>"
      ],
      "text/plain": [
       "                       gram  count\n",
       "0           (donald, trump)   3860\n",
       "1            (white, house)   3806\n",
       "2           (united, state)   3610\n",
       "3               (new, york)   3354\n",
       "4              (last, year)   3236\n",
       "5         (prime, minister)   2968\n",
       "6       (president, donald)   2177\n",
       "7               (per, cent)   2030\n",
       "8              (last, week)   1882\n",
       "9        (president, trump)   1677\n",
       "10  (trump, administration)   1657\n",
       "11              (mr, trump)   1642\n",
       "12         (social, medium)   1632\n",
       "13            (first, time)   1596\n",
       "14              (year, ago)   1519"
      ]
     },
     "execution_count": 64,
     "metadata": {},
     "output_type": "execute_result"
    }
   ],
   "source": [
    "finder = BigramCollocationFinder.from_documents(true_processed_bigrams.values)\n",
    "bigram_measures = nltk.collocations.BigramAssocMeasures()\n",
    "finder.apply_freq_filter(1)\n",
    "ngram_list = [pair for row in true_processed_bigrams for pair in ngrams(row, 2)]\n",
    "counts = Counter(ngram_list).most_common(15)\n",
    "pd.DataFrame.from_records(counts, columns=['gram', 'count'])"
   ]
  },
  {
   "cell_type": "markdown",
   "metadata": {},
   "source": [
    "#### 2.4.2.2 False Articles After Pre-processing"
   ]
  },
  {
   "cell_type": "code",
   "execution_count": 65,
   "metadata": {},
   "outputs": [
    {
     "data": {
      "text/html": [
       "<div>\n",
       "<style scoped>\n",
       "    .dataframe tbody tr th:only-of-type {\n",
       "        vertical-align: middle;\n",
       "    }\n",
       "\n",
       "    .dataframe tbody tr th {\n",
       "        vertical-align: top;\n",
       "    }\n",
       "\n",
       "    .dataframe thead th {\n",
       "        text-align: right;\n",
       "    }\n",
       "</style>\n",
       "<table border=\"1\" class=\"dataframe\">\n",
       "  <thead>\n",
       "    <tr style=\"text-align: right;\">\n",
       "      <th></th>\n",
       "      <th>gram</th>\n",
       "      <th>count</th>\n",
       "    </tr>\n",
       "  </thead>\n",
       "  <tbody>\n",
       "    <tr>\n",
       "      <th>0</th>\n",
       "      <td>(united, state)</td>\n",
       "      <td>6368</td>\n",
       "    </tr>\n",
       "    <tr>\n",
       "      <th>1</th>\n",
       "      <td>(donald, trump)</td>\n",
       "      <td>5687</td>\n",
       "    </tr>\n",
       "    <tr>\n",
       "      <th>2</th>\n",
       "      <td>(new, york)</td>\n",
       "      <td>5141</td>\n",
       "    </tr>\n",
       "    <tr>\n",
       "      <th>3</th>\n",
       "      <td>(president, trump)</td>\n",
       "      <td>5098</td>\n",
       "    </tr>\n",
       "    <tr>\n",
       "      <th>4</th>\n",
       "      <td>(white, house)</td>\n",
       "      <td>4251</td>\n",
       "    </tr>\n",
       "    <tr>\n",
       "      <th>5</th>\n",
       "      <td>(social, medium)</td>\n",
       "      <td>2521</td>\n",
       "    </tr>\n",
       "    <tr>\n",
       "      <th>6</th>\n",
       "      <td>(president, donald)</td>\n",
       "      <td>2520</td>\n",
       "    </tr>\n",
       "    <tr>\n",
       "      <th>7</th>\n",
       "      <td>(last, year)</td>\n",
       "      <td>1941</td>\n",
       "    </tr>\n",
       "    <tr>\n",
       "      <th>8</th>\n",
       "      <td>(trump, administration)</td>\n",
       "      <td>1928</td>\n",
       "    </tr>\n",
       "    <tr>\n",
       "      <th>9</th>\n",
       "      <td>(prime, minister)</td>\n",
       "      <td>1793</td>\n",
       "    </tr>\n",
       "    <tr>\n",
       "      <th>10</th>\n",
       "      <td>(vice, president)</td>\n",
       "      <td>1737</td>\n",
       "    </tr>\n",
       "    <tr>\n",
       "      <th>11</th>\n",
       "      <td>(national, security)</td>\n",
       "      <td>1733</td>\n",
       "    </tr>\n",
       "    <tr>\n",
       "      <th>12</th>\n",
       "      <td>(york, time)</td>\n",
       "      <td>1642</td>\n",
       "    </tr>\n",
       "    <tr>\n",
       "      <th>13</th>\n",
       "      <td>(attorney, general)</td>\n",
       "      <td>1544</td>\n",
       "    </tr>\n",
       "    <tr>\n",
       "      <th>14</th>\n",
       "      <td>(last, week)</td>\n",
       "      <td>1540</td>\n",
       "    </tr>\n",
       "  </tbody>\n",
       "</table>\n",
       "</div>"
      ],
      "text/plain": [
       "                       gram  count\n",
       "0           (united, state)   6368\n",
       "1           (donald, trump)   5687\n",
       "2               (new, york)   5141\n",
       "3        (president, trump)   5098\n",
       "4            (white, house)   4251\n",
       "5          (social, medium)   2521\n",
       "6       (president, donald)   2520\n",
       "7              (last, year)   1941\n",
       "8   (trump, administration)   1928\n",
       "9         (prime, minister)   1793\n",
       "10        (vice, president)   1737\n",
       "11     (national, security)   1733\n",
       "12             (york, time)   1642\n",
       "13      (attorney, general)   1544\n",
       "14             (last, week)   1540"
      ]
     },
     "execution_count": 65,
     "metadata": {},
     "output_type": "execute_result"
    }
   ],
   "source": [
    "finder = BigramCollocationFinder.from_documents(false_processed_bigrams.values)\n",
    "bigram_measures = nltk.collocations.BigramAssocMeasures()\n",
    "finder.apply_freq_filter(1)\n",
    "ngram_list = [pair for row in false_processed_bigrams for pair in ngrams(row, 2)]\n",
    "counts = Counter(ngram_list).most_common(15)\n",
    "pd.DataFrame.from_records(counts, columns=['gram', 'count'])"
   ]
  },
  {
   "cell_type": "markdown",
   "metadata": {},
   "source": [
    "#### 2.4.2.3 Full dataset After Pre-processing"
   ]
  },
  {
   "cell_type": "code",
   "execution_count": 46,
   "metadata": {},
   "outputs": [
    {
     "data": {
      "text/html": [
       "<div>\n",
       "<style scoped>\n",
       "    .dataframe tbody tr th:only-of-type {\n",
       "        vertical-align: middle;\n",
       "    }\n",
       "\n",
       "    .dataframe tbody tr th {\n",
       "        vertical-align: top;\n",
       "    }\n",
       "\n",
       "    .dataframe thead th {\n",
       "        text-align: right;\n",
       "    }\n",
       "</style>\n",
       "<table border=\"1\" class=\"dataframe\">\n",
       "  <thead>\n",
       "    <tr style=\"text-align: right;\">\n",
       "      <th></th>\n",
       "      <th>gram</th>\n",
       "      <th>count</th>\n",
       "    </tr>\n",
       "  </thead>\n",
       "  <tbody>\n",
       "    <tr>\n",
       "      <th>0</th>\n",
       "      <td>(united, state)</td>\n",
       "      <td>9969</td>\n",
       "    </tr>\n",
       "    <tr>\n",
       "      <th>1</th>\n",
       "      <td>(donald, trump)</td>\n",
       "      <td>9539</td>\n",
       "    </tr>\n",
       "    <tr>\n",
       "      <th>2</th>\n",
       "      <td>(new, york)</td>\n",
       "      <td>8487</td>\n",
       "    </tr>\n",
       "    <tr>\n",
       "      <th>3</th>\n",
       "      <td>(white, house)</td>\n",
       "      <td>8053</td>\n",
       "    </tr>\n",
       "    <tr>\n",
       "      <th>4</th>\n",
       "      <td>(president, trump)</td>\n",
       "      <td>6743</td>\n",
       "    </tr>\n",
       "    <tr>\n",
       "      <th>5</th>\n",
       "      <td>(last, year)</td>\n",
       "      <td>4814</td>\n",
       "    </tr>\n",
       "    <tr>\n",
       "      <th>6</th>\n",
       "      <td>(prime, minister)</td>\n",
       "      <td>4755</td>\n",
       "    </tr>\n",
       "    <tr>\n",
       "      <th>7</th>\n",
       "      <td>(president, donald)</td>\n",
       "      <td>4681</td>\n",
       "    </tr>\n",
       "    <tr>\n",
       "      <th>8</th>\n",
       "      <td>(social, medium)</td>\n",
       "      <td>4150</td>\n",
       "    </tr>\n",
       "    <tr>\n",
       "      <th>9</th>\n",
       "      <td>(trump, administration)</td>\n",
       "      <td>3585</td>\n",
       "    </tr>\n",
       "    <tr>\n",
       "      <th>10</th>\n",
       "      <td>(last, week)</td>\n",
       "      <td>3404</td>\n",
       "    </tr>\n",
       "    <tr>\n",
       "      <th>11</th>\n",
       "      <td>(vice, president)</td>\n",
       "      <td>2978</td>\n",
       "    </tr>\n",
       "    <tr>\n",
       "      <th>12</th>\n",
       "      <td>(attorney, general)</td>\n",
       "      <td>2917</td>\n",
       "    </tr>\n",
       "    <tr>\n",
       "      <th>13</th>\n",
       "      <td>(year, ago)</td>\n",
       "      <td>2862</td>\n",
       "    </tr>\n",
       "    <tr>\n",
       "      <th>14</th>\n",
       "      <td>(national, security)</td>\n",
       "      <td>2775</td>\n",
       "    </tr>\n",
       "  </tbody>\n",
       "</table>\n",
       "</div>"
      ],
      "text/plain": [
       "                       gram  count\n",
       "0           (united, state)   9969\n",
       "1           (donald, trump)   9539\n",
       "2               (new, york)   8487\n",
       "3            (white, house)   8053\n",
       "4        (president, trump)   6743\n",
       "5              (last, year)   4814\n",
       "6         (prime, minister)   4755\n",
       "7       (president, donald)   4681\n",
       "8          (social, medium)   4150\n",
       "9   (trump, administration)   3585\n",
       "10             (last, week)   3404\n",
       "11        (vice, president)   2978\n",
       "12      (attorney, general)   2917\n",
       "13              (year, ago)   2862\n",
       "14     (national, security)   2775"
      ]
     },
     "execution_count": 46,
     "metadata": {},
     "output_type": "execute_result"
    }
   ],
   "source": [
    "finder = BigramCollocationFinder.from_documents(full_processed_bigrams.values)\n",
    "bigram_measures = nltk.collocations.BigramAssocMeasures()\n",
    "finder.apply_freq_filter(1)\n",
    "ngram_list = [pair for row in full_processed_bigrams for pair in ngrams(row, 2)]\n",
    "counts = Counter(ngram_list).most_common(15)\n",
    "pd.DataFrame.from_records(counts, columns=['gram', 'count'])"
   ]
  },
  {
   "cell_type": "markdown",
   "metadata": {
    "id": "SM46qddTaM4b"
   },
   "source": [
    "## 2.5 Verify Distribution of length of entries, and remove outliers"
   ]
  },
  {
   "cell_type": "code",
   "execution_count": 66,
   "metadata": {
    "colab": {
     "base_uri": "https://localhost:8080/",
     "height": 264
    },
    "executionInfo": {
     "elapsed": 2444,
     "status": "ok",
     "timestamp": 1606163906429,
     "user": {
      "displayName": "Axel Bogos",
      "photoUrl": "https://lh3.googleusercontent.com/-uXfsFbrsvmQ/AAAAAAAAAAI/AAAAAAAAAT4/3s5kjBD92aM/s64/photo.jpg",
      "userId": "05516112876030235506"
     },
     "user_tz": 300
    },
    "id": "EGbLngskY_eB",
    "outputId": "7a28080b-8b7f-4e17-c4a5-ff7ac894f2e9"
   },
   "outputs": [
    {
     "data": {
      "image/png": "[encoded data removed]",
      "text/plain": [
       "<Figure size 432x288 with 1 Axes>"
      ]
     },
     "metadata": {
      "needs_background": "light"
     },
     "output_type": "display_data"
    }
   ],
   "source": [
    "plt.hist([len(x) for x in X['full_preprocessed']], bins=500)\n",
    "plt.show()"
   ]
  },
  {
   "cell_type": "code",
   "execution_count": 19,
   "metadata": {
    "colab": {
     "base_uri": "https://localhost:8080/"
    },
    "executionInfo": {
     "elapsed": 2427,
     "status": "ok",
     "timestamp": 1606163906431,
     "user": {
      "displayName": "Axel Bogos",
      "photoUrl": "https://lh3.googleusercontent.com/-uXfsFbrsvmQ/AAAAAAAAAAI/AAAAAAAAAT4/3s5kjBD92aM/s64/photo.jpg",
      "userId": "05516112876030235506"
     },
     "user_tz": 300
    },
    "id": "cYauts63cm2o",
    "outputId": "339b3bce-9738-4958-ef26-e5b94aabd643"
   },
   "outputs": [
    {
     "name": "stdout",
     "output_type": "stream",
     "text": [
      "Percent of entries with more than 10,000 words: 1.378\n",
      "Percent of entries with more than 8000 words: 2.505\n"
     ]
    }
   ],
   "source": [
    "print('Percent of entries with atleast 10,000 words: {}%'.format(round(len([x for x in X['full_preprocessed'] if len(x) >=10000])*100/X.shape[0],3)))\n",
    "print('Percent of entries with atleast 8000 words: {}%'.format(round(len([x for x in X['full_preprocessed'] if len(x) >=8000])*100/X.shape[0],3)))"
   ]
  },
  {
   "cell_type": "code",
   "execution_count": 73,
   "metadata": {
    "executionInfo": {
     "elapsed": 2423,
     "status": "ok",
     "timestamp": 1606163906432,
     "user": {
      "displayName": "Axel Bogos",
      "photoUrl": "https://lh3.googleusercontent.com/-uXfsFbrsvmQ/AAAAAAAAAAI/AAAAAAAAAT4/3s5kjBD92aM/s64/photo.jpg",
      "userId": "05516112876030235506"
     },
     "user_tz": 300
    },
    "id": "1BtRxtGxaEhg"
   },
   "outputs": [],
   "source": [
    "X=X[X['full_preprocessed'].apply(lambda x: len(x) < 10000)]"
   ]
  },
  {
   "cell_type": "markdown",
   "metadata": {
    "id": "z6Wc0TvTd7-O"
   },
   "source": [
    "## 2.6 Save processed dataframe as csv"
   ]
  },
  {
   "cell_type": "code",
   "execution_count": 90,
   "metadata": {
    "executionInfo": {
     "elapsed": 17381,
     "status": "ok",
     "timestamp": 1606163921398,
     "user": {
      "displayName": "Axel Bogos",
      "photoUrl": "https://lh3.googleusercontent.com/-uXfsFbrsvmQ/AAAAAAAAAAI/AAAAAAAAAT4/3s5kjBD92aM/s64/photo.jpg",
      "userId": "05516112876030235506"
     },
     "user_tz": 300
    },
    "id": "_qWh23QjbE_K"
   },
   "outputs": [],
   "source": [
    "X.to_csv('{}/complete_processed.csv'.format(data_directory))"
   ]
  },
  {
   "cell_type": "markdown",
   "metadata": {
    "id": "gR9tdtSDiJnA"
   },
   "source": [
    "## 2.7 – Store Current X and y values for reccurent use"
   ]
  },
  {
   "cell_type": "code",
   "execution_count": null,
   "metadata": {
    "executionInfo": {
     "elapsed": 17381,
     "status": "ok",
     "timestamp": 1606163921401,
     "user": {
      "displayName": "Axel Bogos",
      "photoUrl": "https://lh3.googleusercontent.com/-uXfsFbrsvmQ/AAAAAAAAAAI/AAAAAAAAAT4/3s5kjBD92aM/s64/photo.jpg",
      "userId": "05516112876030235506"
     },
     "user_tz": 300
    },
    "id": "SMrO6WliiLk3"
   },
   "outputs": [],
   "source": [
    "y = X['label']\n",
    "X.drop('label',axis=1)"
   ]
  },
  {
   "cell_type": "markdown",
   "metadata": {},
   "source": [
    "### 3 – Naive-Bayes Bag of Word Baseline"
   ]
  },
  {
   "cell_type": "markdown",
   "metadata": {
    "id": "leLl5sxs1PfF"
   },
   "source": [
    "Retrieve X and y if runtime is disconnected"
   ]
  },
  {
   "cell_type": "code",
   "execution_count": 8,
   "metadata": {
    "colab": {
     "base_uri": "https://localhost:8080/",
     "height": 590
    },
    "executionInfo": {
     "elapsed": 6254,
     "status": "ok",
     "timestamp": 1606361221229,
     "user": {
      "displayName": "Axel Bogos",
      "photoUrl": "https://lh3.googleusercontent.com/-uXfsFbrsvmQ/AAAAAAAAAAI/AAAAAAAAAT4/3s5kjBD92aM/s64/photo.jpg",
      "userId": "05516112876030235506"
     },
     "user_tz": 300
    },
    "id": "B3nqFGqm1OhZ",
    "outputId": "205f14cc-2bf3-4f2f-8552-1a92d93ab90f"
   },
   "outputs": [
    {
     "data": {
      "text/plain": [
       "''"
      ]
     },
     "execution_count": 8,
     "metadata": {},
     "output_type": "execute_result"
    }
   ],
   "source": [
    "X = pd.read_csv('{}/complete_processed.csv'.format(data_directory))\n",
    "y = X['label']\n",
    "X.drop('label',axis=1)\n",
    ";"
   ]
  },
  {
   "cell_type": "code",
   "execution_count": 9,
   "metadata": {
    "executionInfo": {
     "elapsed": 21014,
     "status": "ok",
     "timestamp": 1606361236012,
     "user": {
      "displayName": "Axel Bogos",
      "photoUrl": "https://lh3.googleusercontent.com/-uXfsFbrsvmQ/AAAAAAAAAAI/AAAAAAAAAT4/3s5kjBD92aM/s64/photo.jpg",
      "userId": "05516112876030235506"
     },
     "user_tz": 300
    },
    "id": "BfAXauXh1sCh"
   },
   "outputs": [],
   "source": [
    "feature_pipeline = Pipeline([\n",
    "                             ('vect', CountVectorizer()), \n",
    "                             ('norm', sklearn.preprocessing.Normalizer())\n",
    "])\n",
    "X_vectorized = feature_pipeline.fit_transform(X['full_preprocessed'].to_numpy())"
   ]
  },
  {
   "cell_type": "code",
   "execution_count": 10,
   "metadata": {
    "executionInfo": {
     "elapsed": 2326,
     "status": "ok",
     "timestamp": 1606337126556,
     "user": {
      "displayName": "Axel Bogos",
      "photoUrl": "https://lh3.googleusercontent.com/-uXfsFbrsvmQ/AAAAAAAAAAI/AAAAAAAAAT4/3s5kjBD92aM/s64/photo.jpg",
      "userId": "05516112876030235506"
     },
     "user_tz": 300
    },
    "id": "c58BW3dF5wFM"
   },
   "outputs": [],
   "source": [
    "X_train, X_test, y_train, y_test = sklearn.model_selection.train_test_split(X_vectorized, y, test_size=0.2, random_state=0)"
   ]
  },
  {
   "cell_type": "code",
   "execution_count": 12,
   "metadata": {},
   "outputs": [
    {
     "name": "stdout",
     "output_type": "stream",
     "text": [
      "Baseline:               precision    recall  f1-score   support\n",
      "\n",
      "           0       0.75      0.86      0.80      4484\n",
      "           1       0.83      0.70      0.76      4299\n",
      "\n",
      "    accuracy                           0.78      8783\n",
      "   macro avg       0.79      0.78      0.78      8783\n",
      "weighted avg       0.79      0.78      0.78      8783\n",
      "\n",
      "CPU times: user 180 ms, sys: 26.3 ms, total: 206 ms\n",
      "Wall time: 368 ms\n"
     ]
    }
   ],
   "source": [
    "%%time\n",
    "gnb_classifier = sklearn.naive_bayes.MultinomialNB()\n",
    "X_train_test = X_train\n",
    "y_train_test = y_train\n",
    "gnb_classifier.fit(X_train_test,y_train_test )\n",
    "y_pred = gnb_classifier.predict(X_test)\n",
    "print('Baseline: '+classification_report(y_test, y_pred))"
   ]
  },
  {
   "cell_type": "markdown",
   "metadata": {},
   "source": [
    "### Not so bad! And extremely fast"
   ]
  },
  {
   "cell_type": "code",
   "execution_count": 13,
   "metadata": {},
   "outputs": [],
   "source": [
    "filename = '{}/TFID/baseline_gnb.pkl'.format(model_directory)\n",
    "pickle.dump(gnb_classifier, open(filename, 'wb'))"
   ]
  },
  {
   "cell_type": "code",
   "execution_count": null,
   "metadata": {},
   "outputs": [],
   "source": []
  }
 ],
 "metadata": {
  "kernelspec": {
   "display_name": "Python 3",
   "language": "python",
   "name": "python3"
  },
  "language_info": {
   "codemirror_mode": {
    "name": "ipython",
    "version": 3
   },
   "file_extension": ".py",
   "mimetype": "text/x-python",
   "name": "python",
   "nbconvert_exporter": "python",
   "pygments_lexer": "ipython3",
   "version": "3.7.3"
  }
 },
 "nbformat": 4,
 "nbformat_minor": 4
}
